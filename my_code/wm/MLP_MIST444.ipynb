{
 "cells": [
  {
   "cell_type": "code",
   "execution_count": 133,
   "id": "2d38ec55",
   "metadata": {},
   "outputs": [],
   "source": [
    "from data_load import *\n",
    "from sklearn.calibration import LabelEncoder\n",
    "from sklearn.discriminant_analysis import StandardScaler\n",
    "from sklearn.model_selection import train_test_split\n",
    "from sklearn.preprocessing import OneHotEncoder\n",
    "import matplotlib.pyplot as plt"
   ]
  },
  {
   "cell_type": "markdown",
   "id": "ae79a13e",
   "metadata": {},
   "source": [
    "# 数据读取"
   ]
  },
  {
   "cell_type": "code",
   "execution_count": 134,
   "id": "cb93cde6",
   "metadata": {},
   "outputs": [
    {
     "name": "stdout",
     "output_type": "stream",
     "text": [
      "成功加载fMRI数据: /Users/zhangyexin/Documents/hcptrt-output/fMRI/MIST_444/wm/sub-01_wm_final_fMRI.npy\n",
      "数据形状: (2037, 444)\n",
      "成功加载标签数据: /Users/zhangyexin/Documents/hcptrt-output/fMRI/MIST_444/wm/wm_final_labels.csv\n",
      "标签形状: (2037, 1)\n",
      "前5个标签:\n",
      "             0\n",
      "0  2-Back_Body\n",
      "1  2-Back_Body\n",
      "2  2-Back_Body\n",
      "3  2-Back_Body\n",
      "4  2-Back_Body\n"
     ]
    }
   ],
   "source": [
    "# 设置参数\n",
    "subject = 'sub-01'\n",
    "modality = 'wm'\n",
    "img = 'MIST_444'\n",
    "\n",
    "# 加载数据\n",
    "final_bold_files = load_fmri_data(subject, modality,img)\n",
    "final_volume_labels = load_labels_data(modality,img)"
   ]
  },
  {
   "cell_type": "markdown",
   "id": "09a76e32",
   "metadata": {},
   "source": [
    "# 数据集分割"
   ]
  },
  {
   "cell_type": "code",
   "execution_count": 135,
   "id": "ce66a6b3",
   "metadata": {},
   "outputs": [
    {
     "name": "stderr",
     "output_type": "stream",
     "text": [
      "/opt/miniconda3/envs/hcptrt_decoding/lib/python3.9/site-packages/sklearn/preprocessing/_label.py:110: DataConversionWarning: A column-vector y was passed when a 1d array was expected. Please change the shape of y to (n_samples, ), for example using ravel().\n",
      "  y = column_or_1d(y, warn=True)\n"
     ]
    }
   ],
   "source": [
    "X = final_bold_files\n",
    "y = final_volume_labels\n",
    "\n",
    "# 找到唯一的条件/类别\n",
    "# 从标签数据 y 中找出所有独特的类别名称\n",
    "categories = np.unique(y)\n",
    "unique_conditions, order = np.unique(categories, return_index=True)\n",
    "# 根据原始顺序对唯一条件进行排序\n",
    "unique_conditions = unique_conditions[np.argsort(order)]\n",
    "\n",
    "# 将字符串标签编码为数值\n",
    "# 导入并创建 LabelEncoder 实例，用于将字符串标签转换为整数\n",
    "from sklearn.preprocessing import LabelEncoder\n",
    "labelencoder_y = LabelEncoder()\n",
    "y = labelencoder_y.fit_transform(y)\n",
    "\n",
    "# # 重塑 y 的形状\n",
    "# # 将一维的 y 数组重塑为二维数组，使其形状为 (样本数量, 1)\n",
    "# # 这是 OneHotEncoder 所需的输入格式\n",
    "# y = np.reshape(y, (len(final_volume_labels), 1))\n",
    "\n",
    "# # 创建 One-Hot-Encoder 实例\n",
    "# # 导入并创建 OneHotEncoder 实例，用于进行独热编码\n",
    "# from sklearn.preprocessing import OneHotEncoder\n",
    "# enc = OneHotEncoder(handle_unknown='ignore')\n",
    "\n",
    "# # 对 y 进行独热编码\n",
    "# # 使用独热编码器对 y 进行拟合和转换\n",
    "# import pandas as pd\n",
    "# y = pd.DataFrame(enc.fit_transform(y).toarray())\n",
    "# print('标签编码后的值:', y)\n",
    "\n",
    "# 划分训练集和测试集\n",
    "# 导入 train_test_split 函数\n",
    "from sklearn.model_selection import train_test_split\n",
    "# 将数据 X 和标签 y 随机划分为训练集和测试集，测试集占总数据的 10%\n",
    "X_train, X_test, y_train, y_test = train_test_split(X, y, test_size=0.1,random_state=42)\n",
    "X_train, X_val, y_train, y_val = train_test_split(X_train, y_train, test_size=0.1,random_state=42)\n",
    "\n",
    "# 特征标准化\n",
    "# 导入 StandardScaler，用于对特征进行标准化处理\n",
    "from sklearn.preprocessing import StandardScaler\n",
    "scaler = StandardScaler()\n",
    "# 使用训练集 X_train 拟合（fit）标准化参数（均值和标准差），然后转换（transform）X_train\n",
    "X_train = scaler.fit_transform(X_train)\n",
    "# 使用在训练集上拟合好的 scaler 对测试集 X_test 进行转换\n",
    "X_test = scaler.transform(X_test)\n",
    "\n",
    "# 获取类别的数量\n",
    "num_cond = len(np.unique(y))"
   ]
  },
  {
   "cell_type": "code",
   "execution_count": 136,
   "id": "53697d8e",
   "metadata": {},
   "outputs": [
    {
     "name": "stdout",
     "output_type": "stream",
     "text": [
      "(1649, 444)\n",
      "(1649,)\n",
      "(184, 444)\n",
      "(184,)\n",
      "(204, 444)\n",
      "(204,)\n"
     ]
    }
   ],
   "source": [
    "print(np.shape(X_train))\n",
    "print(np.shape(y_train))\n",
    "print(np.shape(X_val))\n",
    "print(np.shape(y_val))\n",
    "print(np.shape(X_test))\n",
    "print(np.shape(y_test))"
   ]
  },
  {
   "cell_type": "markdown",
   "id": "763ff4a4",
   "metadata": {},
   "source": [
    "# ANN"
   ]
  },
  {
   "cell_type": "code",
   "execution_count": 137,
   "id": "1a430a56",
   "metadata": {},
   "outputs": [],
   "source": [
    "import torch\n",
    "import torch.nn as nn\n",
    "import torch.nn.functional as F\n",
    "from torch.utils.data import TensorDataset, DataLoader, random_split\n",
    "import numpy as np"
   ]
  },
  {
   "cell_type": "code",
   "execution_count": 138,
   "id": "3d51137b",
   "metadata": {},
   "outputs": [],
   "source": [
    "# 设备\n",
    "device = torch.device(\"cuda\" if torch.cuda.is_available() else \"cpu\")"
   ]
  },
  {
   "cell_type": "code",
   "execution_count": 139,
   "id": "b7162b4e",
   "metadata": {},
   "outputs": [],
   "source": [
    "X_train_tensor = torch.from_numpy(X_train).float()  # 输入数据\n",
    "y_train_tensor = torch.from_numpy(y_train).long()  # 类别标签\n",
    "X_val_tensor = torch.from_numpy(X_val).float()  \n",
    "y_val_tensor = torch.from_numpy(y_val).long()  \n",
    "X_test_tensor = torch.from_numpy(X_test).float()  \n",
    "y_test_tensor = torch.from_numpy(y_test).long()  \n",
    "\n",
    "# # 创建数据集\n",
    "# train_dataset = TensorDataset(X_train_tensor, y_train_tensor)\n",
    "# val_dataset = TensorDataset(X_val_tensor, y_val_tensor)\n",
    "# test_dataset = TensorDataset(X_test_tensor, y_test_tensor)\n",
    "\n",
    "# batch_size = 5\n",
    "# train_loader = DataLoader(train_dataset, batch_size=batch_size, shuffle=True)\n",
    "# val_loader = DataLoader(val_dataset, batch_size=batch_size, shuffle=False)\n",
    "# test_loader = DataLoader(test_dataset, batch_size=batch_size, shuffle=False)"
   ]
  },
  {
   "cell_type": "code",
   "execution_count": null,
   "id": "86dcd4a9",
   "metadata": {},
   "outputs": [],
   "source": [
    "class SimpleClassifier(nn.Module):\n",
    "    def __init__(self, input_dim=444, num_classes=None, dropout_rate=0.5):\n",
    "        super(SimpleClassifier, self).__init__()\n",
    "        self.fc1 = nn.Linear(input_dim, 222)\n",
    "        self.fc2 = nn.Linear(333, 222)\n",
    "        self.fc3 = nn.Linear(222, 111)\n",
    "        self.fc4 = nn.Linear(111, 55)\n",
    "        self.out = nn.Linear(55, num_classes)\n",
    "\n",
    "        # Dropout 层\n",
    "        self.dropout = nn.Dropout(p=dropout_rate)\n",
    "\n",
    "    def forward(self, x):\n",
    "        x = F.relu(self.fc1(x))\n",
    "        x = self.dropout(x)\n",
    "        x = F.relu(self.fc2(x))\n",
    "        x = self.dropout(x)\n",
    "        x = F.relu(self.fc3(x))\n",
    "        x = self.dropout(x)\n",
    "        x = F.relu(self.fc4(x))\n",
    "        x = self.dropout(x)\n",
    "        logits = self.out(x)\n",
    "        return logits\n"
   ]
  },
  {
   "cell_type": "code",
   "execution_count": 141,
   "id": "cd2f7b88",
   "metadata": {},
   "outputs": [],
   "source": [
    "# 实例化模型\n",
    "model = SimpleClassifier(input_dim=444, num_classes=num_cond, dropout_rate=0.5).to(device)\n",
    "# 损失函数和优化器\n",
    "criterion = nn.CrossEntropyLoss()\n",
    "optimizer = torch.optim.Adam(model.parameters(), lr=0.01)\n",
    "\n",
    "# 训练设置\n",
    "epochs = 100\n",
    "history = {\n",
    "    \"train_loss\": [],\n",
    "    \"train_acc\": [],\n",
    "    \"val_loss\": [],\n",
    "    \"val_acc\": [],\n",
    "}"
   ]
  },
  {
   "cell_type": "code",
   "execution_count": 142,
   "id": "0b9e0a40",
   "metadata": {},
   "outputs": [
    {
     "name": "stdout",
     "output_type": "stream",
     "text": [
      "Epoch 1/100 | Train Loss: 2.0955, Acc: 0.1013 | Val Loss: 2.0262, Acc: 0.2663\n",
      "Epoch 2/100 | Train Loss: 2.0330, Acc: 0.2098 | Val Loss: 1.8502, Acc: 0.3098\n",
      "Epoch 3/100 | Train Loss: 1.9663, Acc: 0.2686 | Val Loss: 1.6856, Acc: 0.4239\n",
      "Epoch 4/100 | Train Loss: 1.7970, Acc: 0.3232 | Val Loss: 1.5292, Acc: 0.4620\n",
      "Epoch 5/100 | Train Loss: 1.7148, Acc: 0.3596 | Val Loss: 1.3820, Acc: 0.5489\n",
      "Epoch 6/100 | Train Loss: 1.5825, Acc: 0.3978 | Val Loss: 1.2466, Acc: 0.5707\n",
      "Epoch 7/100 | Train Loss: 1.4505, Acc: 0.4518 | Val Loss: 1.1471, Acc: 0.5924\n",
      "Epoch 8/100 | Train Loss: 1.3414, Acc: 0.5003 | Val Loss: 1.0555, Acc: 0.6467\n",
      "Epoch 9/100 | Train Loss: 1.2464, Acc: 0.5464 | Val Loss: 0.9985, Acc: 0.6522\n",
      "Epoch 10/100 | Train Loss: 1.2082, Acc: 0.5646 | Val Loss: 0.9490, Acc: 0.6685\n",
      "Epoch 11/100 | Train Loss: 1.0627, Acc: 0.6149 | Val Loss: 0.8990, Acc: 0.6739\n",
      "Epoch 12/100 | Train Loss: 1.0021, Acc: 0.6398 | Val Loss: 0.8558, Acc: 0.6793\n",
      "Epoch 13/100 | Train Loss: 0.9256, Acc: 0.6701 | Val Loss: 0.8200, Acc: 0.6848\n",
      "Epoch 14/100 | Train Loss: 0.9598, Acc: 0.6774 | Val Loss: 0.8024, Acc: 0.6902\n",
      "Epoch 15/100 | Train Loss: 0.8776, Acc: 0.6998 | Val Loss: 0.8148, Acc: 0.6848\n",
      "Epoch 16/100 | Train Loss: 0.8398, Acc: 0.6986 | Val Loss: 0.8392, Acc: 0.6793\n",
      "Epoch 17/100 | Train Loss: 0.7685, Acc: 0.7241 | Val Loss: 0.8367, Acc: 0.6902\n",
      "Epoch 18/100 | Train Loss: 0.7415, Acc: 0.7392 | Val Loss: 0.8317, Acc: 0.7065\n",
      "Epoch 19/100 | Train Loss: 0.6933, Acc: 0.7495 | Val Loss: 0.8452, Acc: 0.7120\n",
      "Epoch 20/100 | Train Loss: 0.6632, Acc: 0.7617 | Val Loss: 0.8739, Acc: 0.7174\n",
      "Epoch 21/100 | Train Loss: 0.6706, Acc: 0.7574 | Val Loss: 0.8842, Acc: 0.7228\n",
      "Epoch 22/100 | Train Loss: 0.6124, Acc: 0.7920 | Val Loss: 0.8617, Acc: 0.7120\n",
      "Epoch 23/100 | Train Loss: 0.5875, Acc: 0.8005 | Val Loss: 0.8485, Acc: 0.7228\n",
      "Epoch 24/100 | Train Loss: 0.5762, Acc: 0.7981 | Val Loss: 0.8354, Acc: 0.7337\n",
      "Epoch 25/100 | Train Loss: 0.5460, Acc: 0.7987 | Val Loss: 0.8385, Acc: 0.7283\n",
      "Epoch 26/100 | Train Loss: 0.5410, Acc: 0.8144 | Val Loss: 0.8405, Acc: 0.7174\n",
      "Epoch 27/100 | Train Loss: 0.5138, Acc: 0.8296 | Val Loss: 0.8333, Acc: 0.7228\n",
      "Epoch 28/100 | Train Loss: 0.4854, Acc: 0.8235 | Val Loss: 0.8312, Acc: 0.7283\n",
      "Epoch 29/100 | Train Loss: 0.4743, Acc: 0.8332 | Val Loss: 0.8115, Acc: 0.7446\n",
      "Epoch 30/100 | Train Loss: 0.4521, Acc: 0.8490 | Val Loss: 0.7846, Acc: 0.7446\n",
      "Epoch 31/100 | Train Loss: 0.4152, Acc: 0.8593 | Val Loss: 0.7708, Acc: 0.7772\n",
      "Epoch 32/100 | Train Loss: 0.3886, Acc: 0.8617 | Val Loss: 0.7611, Acc: 0.7717\n",
      "Epoch 33/100 | Train Loss: 0.4044, Acc: 0.8605 | Val Loss: 0.7737, Acc: 0.7935\n",
      "Epoch 34/100 | Train Loss: 0.3881, Acc: 0.8593 | Val Loss: 0.7941, Acc: 0.7935\n",
      "Epoch 35/100 | Train Loss: 0.4073, Acc: 0.8702 | Val Loss: 0.7897, Acc: 0.7935\n",
      "Epoch 36/100 | Train Loss: 0.3867, Acc: 0.8830 | Val Loss: 0.7882, Acc: 0.7880\n",
      "Epoch 37/100 | Train Loss: 0.3615, Acc: 0.8830 | Val Loss: 0.8083, Acc: 0.7826\n",
      "Epoch 38/100 | Train Loss: 0.3563, Acc: 0.8824 | Val Loss: 0.8339, Acc: 0.7880\n",
      "Epoch 39/100 | Train Loss: 0.3299, Acc: 0.8963 | Val Loss: 0.8654, Acc: 0.7826\n",
      "Epoch 40/100 | Train Loss: 0.3167, Acc: 0.8957 | Val Loss: 0.9028, Acc: 0.7717\n",
      "Epoch 41/100 | Train Loss: 0.3447, Acc: 0.8963 | Val Loss: 0.8892, Acc: 0.7717\n",
      "Epoch 42/100 | Train Loss: 0.3282, Acc: 0.8957 | Val Loss: 0.8170, Acc: 0.7772\n",
      "Epoch 43/100 | Train Loss: 0.2881, Acc: 0.8951 | Val Loss: 0.7620, Acc: 0.7935\n",
      "Epoch 44/100 | Train Loss: 0.2820, Acc: 0.9012 | Val Loss: 0.7533, Acc: 0.7989\n",
      "Epoch 45/100 | Train Loss: 0.2791, Acc: 0.9024 | Val Loss: 0.7564, Acc: 0.7989\n",
      "Epoch 46/100 | Train Loss: 0.2469, Acc: 0.9218 | Val Loss: 0.7548, Acc: 0.7935\n",
      "Epoch 47/100 | Train Loss: 0.2963, Acc: 0.8999 | Val Loss: 0.7672, Acc: 0.7935\n",
      "Epoch 48/100 | Train Loss: 0.2640, Acc: 0.9084 | Val Loss: 0.7682, Acc: 0.8043\n",
      "Epoch 49/100 | Train Loss: 0.2400, Acc: 0.9175 | Val Loss: 0.7779, Acc: 0.7989\n",
      "Epoch 50/100 | Train Loss: 0.2686, Acc: 0.9200 | Val Loss: 0.8044, Acc: 0.8043\n",
      "Epoch 51/100 | Train Loss: 0.2318, Acc: 0.9272 | Val Loss: 0.8456, Acc: 0.7935\n",
      "Epoch 52/100 | Train Loss: 0.2375, Acc: 0.9284 | Val Loss: 0.8972, Acc: 0.7989\n",
      "Epoch 53/100 | Train Loss: 0.2640, Acc: 0.9236 | Val Loss: 0.8697, Acc: 0.7935\n",
      "Epoch 54/100 | Train Loss: 0.2508, Acc: 0.9315 | Val Loss: 0.8919, Acc: 0.7826\n",
      "Epoch 55/100 | Train Loss: 0.2210, Acc: 0.9321 | Val Loss: 0.9341, Acc: 0.7772\n",
      "Epoch 56/100 | Train Loss: 0.2324, Acc: 0.9327 | Val Loss: 0.8720, Acc: 0.7989\n",
      "Epoch 57/100 | Train Loss: 0.1839, Acc: 0.9418 | Val Loss: 0.8704, Acc: 0.7826\n",
      "Epoch 58/100 | Train Loss: 0.2384, Acc: 0.9309 | Val Loss: 0.8719, Acc: 0.7717\n",
      "Epoch 59/100 | Train Loss: 0.2531, Acc: 0.9297 | Val Loss: 0.8516, Acc: 0.7772\n",
      "Epoch 60/100 | Train Loss: 0.2133, Acc: 0.9394 | Val Loss: 0.8376, Acc: 0.7826\n",
      "Epoch 61/100 | Train Loss: 0.2223, Acc: 0.9339 | Val Loss: 0.8338, Acc: 0.8043\n",
      "Epoch 62/100 | Train Loss: 0.2403, Acc: 0.9309 | Val Loss: 0.8502, Acc: 0.8043\n",
      "Epoch 63/100 | Train Loss: 0.2308, Acc: 0.9315 | Val Loss: 0.8442, Acc: 0.8098\n",
      "Epoch 64/100 | Train Loss: 0.2250, Acc: 0.9345 | Val Loss: 0.8345, Acc: 0.8261\n",
      "Epoch 65/100 | Train Loss: 0.1957, Acc: 0.9400 | Val Loss: 0.8363, Acc: 0.7989\n",
      "Epoch 66/100 | Train Loss: 0.1589, Acc: 0.9497 | Val Loss: 0.8540, Acc: 0.7880\n",
      "Epoch 67/100 | Train Loss: 0.2224, Acc: 0.9357 | Val Loss: 0.8789, Acc: 0.7935\n",
      "Epoch 68/100 | Train Loss: 0.2015, Acc: 0.9406 | Val Loss: 0.8860, Acc: 0.7989\n",
      "Epoch 69/100 | Train Loss: 0.2203, Acc: 0.9345 | Val Loss: 0.8860, Acc: 0.8098\n",
      "Epoch 70/100 | Train Loss: 0.1724, Acc: 0.9485 | Val Loss: 0.9020, Acc: 0.8043\n",
      "Epoch 71/100 | Train Loss: 0.1740, Acc: 0.9478 | Val Loss: 0.9151, Acc: 0.7989\n",
      "Epoch 72/100 | Train Loss: 0.1632, Acc: 0.9478 | Val Loss: 0.9198, Acc: 0.7935\n",
      "Epoch 73/100 | Train Loss: 0.1704, Acc: 0.9472 | Val Loss: 0.9201, Acc: 0.7989\n",
      "Epoch 74/100 | Train Loss: 0.1770, Acc: 0.9497 | Val Loss: 0.9411, Acc: 0.7935\n",
      "Epoch 75/100 | Train Loss: 0.1532, Acc: 0.9539 | Val Loss: 0.9514, Acc: 0.7989\n",
      "Epoch 76/100 | Train Loss: 0.1785, Acc: 0.9472 | Val Loss: 0.9427, Acc: 0.8098\n",
      "Epoch 77/100 | Train Loss: 0.1583, Acc: 0.9551 | Val Loss: 0.9437, Acc: 0.8098\n",
      "Epoch 78/100 | Train Loss: 0.1771, Acc: 0.9351 | Val Loss: 0.9384, Acc: 0.8152\n",
      "Epoch 79/100 | Train Loss: 0.1604, Acc: 0.9515 | Val Loss: 0.9800, Acc: 0.8207\n",
      "Epoch 80/100 | Train Loss: 0.1564, Acc: 0.9509 | Val Loss: 1.0052, Acc: 0.8261\n",
      "Epoch 81/100 | Train Loss: 0.1613, Acc: 0.9539 | Val Loss: 1.0196, Acc: 0.8152\n",
      "Epoch 82/100 | Train Loss: 0.1441, Acc: 0.9588 | Val Loss: 1.0127, Acc: 0.8152\n",
      "Epoch 83/100 | Train Loss: 0.1506, Acc: 0.9539 | Val Loss: 0.9966, Acc: 0.8098\n",
      "Epoch 84/100 | Train Loss: 0.1911, Acc: 0.9485 | Val Loss: 0.9984, Acc: 0.8207\n",
      "Epoch 85/100 | Train Loss: 0.1483, Acc: 0.9594 | Val Loss: 1.0290, Acc: 0.8098\n",
      "Epoch 86/100 | Train Loss: 0.1666, Acc: 0.9563 | Val Loss: 1.0425, Acc: 0.8098\n",
      "Epoch 87/100 | Train Loss: 0.1771, Acc: 0.9497 | Val Loss: 1.0242, Acc: 0.8152\n",
      "Epoch 88/100 | Train Loss: 0.1642, Acc: 0.9478 | Val Loss: 1.0091, Acc: 0.8261\n",
      "Epoch 89/100 | Train Loss: 0.1611, Acc: 0.9576 | Val Loss: 0.9694, Acc: 0.8261\n",
      "Epoch 90/100 | Train Loss: 0.1338, Acc: 0.9551 | Val Loss: 0.9181, Acc: 0.8261\n",
      "Epoch 91/100 | Train Loss: 0.1475, Acc: 0.9533 | Val Loss: 0.8674, Acc: 0.8152\n",
      "Epoch 92/100 | Train Loss: 0.1402, Acc: 0.9569 | Val Loss: 0.8268, Acc: 0.8207\n",
      "Epoch 93/100 | Train Loss: 0.1492, Acc: 0.9539 | Val Loss: 0.8232, Acc: 0.8152\n",
      "Epoch 94/100 | Train Loss: 0.1632, Acc: 0.9485 | Val Loss: 0.8247, Acc: 0.8207\n",
      "Epoch 95/100 | Train Loss: 0.1311, Acc: 0.9588 | Val Loss: 0.8517, Acc: 0.8152\n",
      "Epoch 96/100 | Train Loss: 0.1509, Acc: 0.9539 | Val Loss: 0.8840, Acc: 0.8098\n",
      "Epoch 97/100 | Train Loss: 0.1197, Acc: 0.9642 | Val Loss: 0.9140, Acc: 0.8098\n",
      "Epoch 98/100 | Train Loss: 0.1156, Acc: 0.9630 | Val Loss: 0.9427, Acc: 0.8152\n",
      "Epoch 99/100 | Train Loss: 0.1184, Acc: 0.9606 | Val Loss: 0.9711, Acc: 0.7935\n",
      "Epoch 100/100 | Train Loss: 0.1630, Acc: 0.9527 | Val Loss: 1.0083, Acc: 0.7935\n"
     ]
    }
   ],
   "source": [
    "# 训练模式\n",
    "for epoch in range(1, epochs + 1):\n",
    "    model.train()\n",
    "    running_loss = 0.0\n",
    "    correct = 0\n",
    "    total = 0\n",
    "    \n",
    "    # 使用所有训练数据\n",
    "    xb, yb = X_train_tensor.to(device), y_train_tensor.to(device)\n",
    "\n",
    "    optimizer.zero_grad()  # 清零梯度\n",
    "    logits = model(xb)  # 前向传播\n",
    "    loss = criterion(logits, yb)  # 计算损失\n",
    "    loss.backward()  # 反向传播\n",
    "    optimizer.step()  # 更新权重\n",
    "\n",
    "    running_loss += loss.item() * xb.size(0)  # 计算累计损失\n",
    "    preds = torch.argmax(logits, dim=1)  # 预测类别\n",
    "    correct += (preds == yb).sum().item()  # 正确的预测数\n",
    "    total += yb.size(0)  # 总样本数\n",
    "\n",
    "    # 计算训练集损失和精度\n",
    "    train_loss = running_loss / total\n",
    "    train_acc = correct / total\n",
    "    \n",
    "    # 验证模式\n",
    "    model.eval()\n",
    "    val_running_loss = 0.0\n",
    "    val_correct = 0\n",
    "    val_total = 0\n",
    "    with torch.no_grad():  # 评估阶段不需要计算梯度\n",
    "        xb, yb = X_val_tensor.to(device), y_val_tensor.to(device)\n",
    "        logits = model(xb)\n",
    "        loss = criterion(logits, yb)\n",
    "        val_running_loss += loss.item() * xb.size(0)\n",
    "        preds = torch.argmax(logits, dim=1)\n",
    "        val_correct += (preds == yb).sum().item()\n",
    "        val_total += yb.size(0)\n",
    "\n",
    "    # 计算验证集损失和精度\n",
    "    val_loss = val_running_loss / val_total\n",
    "    val_acc = val_correct / val_total\n",
    "\n",
    "    # 保存历史记录\n",
    "    history[\"train_loss\"].append(train_loss)\n",
    "    history[\"train_acc\"].append(train_acc)\n",
    "    history[\"val_loss\"].append(val_loss)\n",
    "    history[\"val_acc\"].append(val_acc)\n",
    "\n",
    "    # 打印当前 epoch 的训练和验证结果\n",
    "    print(f\"Epoch {epoch}/{epochs} | \"\n",
    "            f\"Train Loss: {train_loss:.4f}, Acc: {train_acc:.4f} | \"\n",
    "            f\"Val Loss: {val_loss:.4f}, Acc: {val_acc:.4f}\")"
   ]
  },
  {
   "cell_type": "code",
   "execution_count": 143,
   "id": "cdc16fe2",
   "metadata": {},
   "outputs": [
    {
     "name": "stdout",
     "output_type": "stream",
     "text": [
      "Test Loss: 1.0956, Acc: 0.7696)\n"
     ]
    }
   ],
   "source": [
    "# 测试集\n",
    "model.eval()\n",
    "test_running_loss = 0.0\n",
    "test_correct = 0\n",
    "test_total = 0\n",
    "with torch.no_grad():  # 评估阶段不需要计算梯度\n",
    "    xb, yb = X_test_tensor.to(device), y_test_tensor.to(device)\n",
    "    logits = model(xb)\n",
    "    loss = criterion(logits, yb)\n",
    "    test_running_loss += loss.item() * xb.size(0)\n",
    "    preds = torch.argmax(logits, dim=1)\n",
    "    test_correct += (preds == yb).sum().item()\n",
    "    test_total += yb.size(0)\n",
    "\n",
    "# 计算测试集损失和精度\n",
    "test_loss = test_running_loss / test_total \n",
    "test_acc = test_correct / test_total\n",
    "print(f\"Test Loss: {test_loss:.4f}, Acc: {test_acc:.4f})\")"
   ]
  },
  {
   "cell_type": "code",
   "execution_count": 144,
   "id": "cb2baa9d",
   "metadata": {},
   "outputs": [
    {
     "data": {
      "image/png": "[encoded data removed]",
      "text/plain": [
       "<Figure size 640x480 with 1 Axes>"
      ]
     },
     "metadata": {},
     "output_type": "display_data"
    },
    {
     "data": {
      "image/png": "[encoded data removed]",
      "text/plain": [
       "<Figure size 640x480 with 1 Axes>"
      ]
     },
     "metadata": {},
     "output_type": "display_data"
    }
   ],
   "source": [
    "\n",
    "plt.plot(history['train_acc'], label='Train Accuracy')\n",
    "plt.plot(history['val_acc'], label='Validation Accuracy')\n",
    "plt.title('Model Accuracy')\n",
    "plt.xlabel('Epoch')\n",
    "plt.ylabel('Accuracy')\n",
    "plt.legend(loc='upper left')\n",
    "plt.show()\n",
    "\n",
    "# Plot loss\n",
    "plt.plot(history['train_loss'], label='Train Loss')\n",
    "plt.plot(history['val_loss'], label='Validation Loss')\n",
    "plt.title('Model Loss')\n",
    "plt.xlabel('Epoch')\n",
    "plt.ylabel('Loss')\n",
    "plt.legend(loc='upper left')\n",
    "plt.show()\n"
   ]
  },
  {
   "cell_type": "code",
   "execution_count": null,
   "id": "b17e32de",
   "metadata": {},
   "outputs": [],
   "source": []
  }
 ],
 "metadata": {
  "kernelspec": {
   "display_name": "hcptrt_decoding",
   "language": "python",
   "name": "python3"
  },
  "language_info": {
   "codemirror_mode": {
    "name": "ipython",
    "version": 3
   },
   "file_extension": ".py",
   "mimetype": "text/x-python",
   "name": "python",
   "nbconvert_exporter": "python",
   "pygments_lexer": "ipython3",
   "version": "3.9.23"
  }
 },
 "nbformat": 4,
 "nbformat_minor": 5
}
