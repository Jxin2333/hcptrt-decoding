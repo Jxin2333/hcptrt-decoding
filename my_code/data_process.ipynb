{
 "cells": [
  {
   "cell_type": "markdown",
   "id": "341fb53e",
   "metadata": {},
   "source": [
    "# fMRIPrep 输出到机器学习数据集的预处理流程\n",
    "\n",
    "本 Notebook 基于 fMRIPrep 输出的四种空间（`T1w`, `MNI152NLin2009cAsym`, `MNI152NLin6Asym`, `fsaverage`）的预处理结果，补全以下步骤：\n",
    "\n",
    "1. 收集各空间的 BOLD 图像及混淆因子文件\n",
    "2. 基于 MIST-444 脑区模板提取每个脑区时间序列（含 5mm 平滑）\n",
    "3. 执行混淆因子（confounds）回归\n",
    "4. 根据事件文件标注每个体积标签并筛选感兴趣体积\n",
    "5. 标签编码与独热编码\n",
    "6. 划分训练/测试集并对特征做二次标准化\n",
    "7. 将结果保存为 NumPy 文件，供后续模型训练使用\n",
    "\n",
    "---"
   ]
  },
  {
   "cell_type": "code",
   "execution_count": 13,
   "id": "c4829a89",
   "metadata": {},
   "outputs": [
    {
     "name": "stdout",
     "output_type": "stream",
     "text": [
      "The autoreload extension is already loaded. To reload it, use:\n",
      "  %reload_ext autoreload\n"
     ]
    }
   ],
   "source": [
    "import os\n",
    "import glob\n",
    "import numpy as np\n",
    "import pandas as pd\n",
    "import nibabel as nib\n",
    "from nilearn.input_data import NiftiLabelsMasker\n",
    "from nilearn.input_data import NiftiMapsMasker\n",
    "from sklearn.preprocessing import LabelEncoder, OneHotEncoder, StandardScaler\n",
    "from sklearn.model_selection import train_test_split\n",
    "%load_ext autoreload\n",
    "%autoreload 2\n",
    "from data_load import *"
   ]
  },
  {
   "cell_type": "markdown",
   "id": "d715e792",
   "metadata": {},
   "source": [
    "- `bids_dir`: 原始 BIDS 数据集根目录\n",
    "- `fmriprep_dir`: fMRIPrep 输出的 derivatives 目录\n",
    "- `atlas_img`: MIST-444 脑区模板文件路径"
   ]
  },
  {
   "cell_type": "code",
   "execution_count": 9,
   "id": "248ef5ba",
   "metadata": {},
   "outputs": [
    {
     "name": "stdout",
     "output_type": "stream",
     "text": [
      "BOLD文件数量: 1\n",
      "events文件数量: 1\n"
     ]
    }
   ],
   "source": [
    "# 设置基本参数\n",
    "TR = 1.49                           # 重复时间(Repetition Time)，单位秒\n",
    "subject = 'sub-01'                  # 受试者编号\n",
    "modality = 'wm'                     # 任务类型：工作记忆(working memory)\n",
    "# confounds = Params9()             # 使用9参数混淆变量校正\n",
    "session = 'ses-001'\n",
    "# session ='**'                       #全部session\n",
    "img = 'difumo512'\n",
    "labels_img = '/Users/zhangyexin/Documents/hcptrt-output/Parcellations/'+img+'.nii.gz'\n",
    "\n",
    "# 设置输出路径\n",
    "out_path = '/Users/zhangyexin/Documents/hcptrt-output/fMRI/'+ img+'/' + modality + '/' # 输出文件保存路径\n",
    "bold_suffix = 'space-MNI152NLin2009cAsym_desc-preproc_bold.nii.gz'  # BOLD数据文件后缀\n",
    "# 搜索BOLD数据文件路径\n",
    "data_path = sorted(glob.glob('/Users/zhangyexin/hcptrt.fmriprep/{}/{}/func/*{}*'\n",
    "                     .format(subject, session, modality) + bold_suffix, recursive=True))\n",
    "\n",
    "# 搜索事件文件路径ses-001\n",
    "events_path = sorted(glob.glob('/Users/zhangyexin/hcptrt/{}/{}/func/*{}*_events.tsv'\n",
    "                     .format(subject, session, modality), recursive=True))\n",
    "\n",
    "print('BOLD文件数量:', len(data_path))\n",
    "print('events文件数量:', len(events_path))\n",
    "\n",
    "# 先创建目录\n",
    "if not os.path.exists(out_path):\n",
    "    os.makedirs(out_path)"
   ]
  },
  {
   "cell_type": "code",
   "execution_count": null,
   "id": "d0bf4523",
   "metadata": {},
   "outputs": [
    {
     "name": "stdout",
     "output_type": "stream",
     "text": [
      "/Users/zhangyexin/hcptrt.fmriprep/sub-01/ses-001/func/sub-01_ses-001_task-wm_run-1_desc-confounds_timeseries.tsv\n"
     ]
    }
   ],
   "source": [
    "bold_files = []  # 存储处理后的BOLD数据\n",
    "for dpath in data_path:    \n",
    "    # 创建脑区标签掩膜器\n",
    "    if 'difumo' in img.lower():\n",
    "        masker = NiftiMapsMasker(labels_img,  # 使用脑区模板\n",
    "                                standardize=True,                  # 标准化数据\n",
    "                                detrend = False,                   # 不进行去趋势\n",
    "                                smoothing_fwhm = 5).fit()          # 5mm平滑核\n",
    "    else:\n",
    "        masker = NiftiLabelsMasker(labels_img,  # 使用脑区模板\n",
    "                                standardize=True,                  # 标准化数据\n",
    "                                detrend = False,                   # 不进行去趋势\n",
    "                                smoothing_fwhm = 5).fit()          # 5mm平滑核\n",
    "    # 提取脑区时间序列，同时应用混淆变量校正\n",
    "    data_fmri = masker.fit_transform(dpath, confounds = confound_load_9param(dpath))    \n",
    "    bold_files.append(data_fmri)  # 添加到列表中\n",
    "\n",
    "# 保存处理后的BOLD数据\n",
    "bold_outname = out_path +subject + '_' + modality + '_fMRI2.npy'\n",
    "np.save(bold_outname, bold_files)\n",
    "print('######### BOLD数据读取完成! #########')  "
   ]
  },
  {
   "cell_type": "code",
   "execution_count": null,
   "id": "e85b8c9e",
   "metadata": {},
   "outputs": [
    {
     "name": "stdout",
     "output_type": "stream",
     "text": [
      "events文件数量: 15\n",
      "   trial_type  trial    answer correct_answer              stim_file  \\\n",
      "0   countdown    NaN       NaN            NaN                    NaN   \n",
      "1   countdown    NaN       NaN            NaN                    NaN   \n",
      "2   countdown    NaN       NaN            NaN                    NaN   \n",
      "3   countdown    NaN       NaN            NaN                    NaN   \n",
      "4      2-Back    1.0  no_match       no_match  wm/BP_002_BP10_BA.png   \n",
      "..        ...    ...       ...            ...                    ...   \n",
      "83     2-Back    6.0     match          match    wm/PL_009_92037.png   \n",
      "84     2-Back    7.0  no_match       no_match    wm/PL_008_92033.png   \n",
      "85     2-Back    8.0  no_match       no_match    wm/PL_012_92047.png   \n",
      "86     2-Back    9.0  no_match       no_match    wm/PL_012_92047.png   \n",
      "87     2-Back   10.0  no_match       no_match    wm/PL_011_92044.png   \n",
      "\n",
      "   target_type stim_type    onset  duration  response_time  countdown_stim  \n",
      "0          NaN       NaN    0.000     1.997            NaN             4.0  \n",
      "1          NaN       NaN    2.000     1.997            NaN             3.0  \n",
      "2          NaN       NaN    4.000     1.997            NaN             2.0  \n",
      "3          NaN       NaN    6.013     1.984            NaN             1.0  \n",
      "4      nonlure      Body   10.563     0.799          0.799             NaN  \n",
      "..         ...       ...      ...       ...            ...             ...  \n",
      "83      target     Place  263.048     1.402          1.402             NaN  \n",
      "84     nonlure     Place  265.581     0.780          0.780             NaN  \n",
      "85     nonlure     Place  268.115     0.769          0.769             NaN  \n",
      "86        lure     Place  270.648     0.865          0.865             NaN  \n",
      "87     nonlure     Place  273.181     1.357          1.357             NaN  \n",
      "\n",
      "[88 rows x 11 columns]\n",
      "   trial_type  trial    answer correct_answer                stim_file  \\\n",
      "0   countdown    NaN       NaN            NaN                      NaN   \n",
      "1   countdown    NaN       NaN            NaN                      NaN   \n",
      "2   countdown    NaN       NaN            NaN                      NaN   \n",
      "3   countdown    NaN       NaN            NaN                      NaN   \n",
      "4      2-Back    1.0  no_match       no_match  wm/TO_014_TOOL14_BA.png   \n",
      "..        ...    ...       ...            ...                      ...   \n",
      "83     0-Back    6.0     match          match   wm/PL_021_SCENE_07.png   \n",
      "84     0-Back    7.0     match          match   wm/PL_021_SCENE_07.png   \n",
      "85     0-Back    8.0  no_match       no_match   wm/PL_023_SCENE_09.png   \n",
      "86     0-Back    9.0  no_match       no_match   wm/PL_024_SCENE_10.png   \n",
      "87     0-Back   10.0  no_match       no_match   wm/PL_022_SCENE_08.png   \n",
      "\n",
      "   target_type stim_type    onset  duration  response_time  countdown_stim  \n",
      "0          NaN       NaN    0.000     1.986            NaN             4.0  \n",
      "1          NaN       NaN    2.000     1.986            NaN             3.0  \n",
      "2          NaN       NaN    3.999     1.987            NaN             2.0  \n",
      "3          NaN       NaN    5.999     1.987            NaN             1.0  \n",
      "4      nonlure     Tools   10.516     1.444          1.444             NaN  \n",
      "..         ...       ...      ...       ...            ...             ...  \n",
      "83      target     Place  263.003     1.314          1.314             NaN  \n",
      "84      target     Place  265.536     0.623          0.623             NaN  \n",
      "85     nonlure     Place  268.069     0.914          0.914             NaN  \n",
      "86     nonlure     Place  270.602     0.831          0.831             NaN  \n",
      "87        lure     Place  273.136     0.883          0.883             NaN  \n",
      "\n",
      "[88 rows x 11 columns]\n",
      "   trial_type  trial    answer correct_answer                stim_file  \\\n",
      "0   countdown    NaN       NaN            NaN                      NaN   \n",
      "1   countdown    NaN       NaN            NaN                      NaN   \n",
      "2   countdown    NaN       NaN            NaN                      NaN   \n",
      "3   countdown    NaN       NaN            NaN                      NaN   \n",
      "4         Cue    NaN       NaN            NaN  wm/TO_025_TOOL25_BA.png   \n",
      "..        ...    ...       ...            ...                      ...   \n",
      "83     2-Back    6.0  no_match       no_match   wm/BP_033_FLCHS_BA.png   \n",
      "84     2-Back    7.0  no_match       no_match   wm/BP_032_FLCHI_BA.png   \n",
      "85     2-Back    8.0  no_match       no_match   wm/BP_034_FLPUI_BA.png   \n",
      "86     2-Back    9.0  no_match       no_match   wm/BP_034_FLPUI_BA.png   \n",
      "87     2-Back   10.0     match       no_match   wm/BP_033_FLCHS_BA.png   \n",
      "\n",
      "   target_type stim_type    onset  duration  response_time  countdown_stim  \n",
      "0          NaN       NaN    0.000     1.985            NaN             4.0  \n",
      "1          NaN       NaN    2.000     1.985            NaN             3.0  \n",
      "2          NaN       NaN    4.000     1.985            NaN             2.0  \n",
      "3          NaN       NaN    6.000     1.985            NaN             1.0  \n",
      "4          NaN       NaN    8.000       NaN            NaN             NaN  \n",
      "..         ...       ...      ...       ...            ...             ...  \n",
      "83     nonlure      Body  263.002     0.629          0.629             NaN  \n",
      "84     nonlure      Body  265.535     1.501          1.501             NaN  \n",
      "85     nonlure      Body  268.068     1.319          1.319             NaN  \n",
      "86        lure      Body  270.601     1.027          1.027             NaN  \n",
      "87        lure      Body  273.134     0.991          0.991             NaN  \n",
      "\n",
      "[88 rows x 11 columns]\n",
      "   trial_type  trial    answer correct_answer                stim_file  \\\n",
      "0   countdown    NaN       NaN            NaN                      NaN   \n",
      "1   countdown    NaN       NaN            NaN                      NaN   \n",
      "2   countdown    NaN       NaN            NaN                      NaN   \n",
      "3   countdown    NaN       NaN            NaN                      NaN   \n",
      "4         Cue    NaN       NaN            NaN  wm/TO_025_TOOL25_BA.png   \n",
      "..        ...    ...       ...            ...                      ...   \n",
      "83     2-Back    6.0  no_match       no_match   wm/BP_033_FLCHS_BA.png   \n",
      "84     2-Back    7.0  no_match       no_match   wm/BP_032_FLCHI_BA.png   \n",
      "85     2-Back    8.0  no_match       no_match   wm/BP_034_FLPUI_BA.png   \n",
      "86     2-Back    9.0  no_match       no_match   wm/BP_034_FLPUI_BA.png   \n",
      "87     2-Back   10.0  no_match       no_match   wm/BP_033_FLCHS_BA.png   \n",
      "\n",
      "   target_type stim_type    onset  duration  response_time  countdown_stim  \n",
      "0          NaN       NaN    0.000     1.991            NaN             4.0  \n",
      "1          NaN       NaN    2.000     1.991            NaN             3.0  \n",
      "2          NaN       NaN    4.000     1.991            NaN             2.0  \n",
      "3          NaN       NaN    5.999     1.992            NaN             1.0  \n",
      "4          NaN       NaN    8.002       NaN            NaN             NaN  \n",
      "..         ...       ...      ...       ...            ...             ...  \n",
      "83     nonlure      Body  263.034     1.491          1.491             NaN  \n",
      "84     nonlure      Body  265.567     1.352          1.352             NaN  \n",
      "85     nonlure      Body  268.101     0.970          0.970             NaN  \n",
      "86        lure      Body  270.634     0.851          0.851             NaN  \n",
      "87        lure      Body  273.167     1.411          1.411             NaN  \n",
      "\n",
      "[88 rows x 11 columns]\n",
      "   trial_type  trial    answer correct_answer                stim_file  \\\n",
      "0   countdown    NaN       NaN            NaN                      NaN   \n",
      "1   countdown    NaN       NaN            NaN                      NaN   \n",
      "2   countdown    NaN       NaN            NaN                      NaN   \n",
      "3   countdown    NaN       NaN            NaN                      NaN   \n",
      "4         Cue    NaN       NaN            NaN        wm/FC_037_M19.png   \n",
      "..        ...    ...       ...            ...                      ...   \n",
      "83     2-Back    6.0  no_match       no_match  wm/TO_044_TOOL44_BA.png   \n",
      "84     2-Back    7.0  no_match       no_match  wm/TO_043_TOOL43_BA.png   \n",
      "85     2-Back    8.0     match          match  wm/TO_044_TOOL44_BA.png   \n",
      "86     2-Back    9.0  no_match       no_match  wm/TO_048_TOOL48_BA.png   \n",
      "87     2-Back   10.0  no_match       no_match  wm/TO_047_TOOL47_BA.png   \n",
      "\n",
      "   target_type stim_type    onset  duration  response_time  countdown_stim  \n",
      "0          NaN       NaN    0.000     1.983            NaN             4.0  \n",
      "1          NaN       NaN    1.986     1.997            NaN             3.0  \n",
      "2          NaN       NaN    3.986     1.997            NaN             2.0  \n",
      "3          NaN       NaN    5.999     1.984            NaN             1.0  \n",
      "4          NaN       NaN    7.999       NaN            NaN             NaN  \n",
      "..         ...       ...      ...       ...            ...             ...  \n",
      "83     nonlure     Tools  263.001     0.860          0.860             NaN  \n",
      "84        lure     Tools  265.534     1.241          1.241             NaN  \n",
      "85      target     Tools  268.067     1.057          1.057             NaN  \n",
      "86     nonlure     Tools  270.600     1.232          1.232             NaN  \n",
      "87     nonlure     Tools  273.134     1.123          1.123             NaN  \n",
      "\n",
      "[88 rows x 11 columns]\n",
      "   trial_type  trial    answer correct_answer              stim_file  \\\n",
      "0   countdown    NaN       NaN            NaN                    NaN   \n",
      "1   countdown    NaN       NaN            NaN                    NaN   \n",
      "2   countdown    NaN       NaN            NaN                    NaN   \n",
      "3   countdown    NaN       NaN            NaN                    NaN   \n",
      "4      2-Back    1.0  no_match       no_match  wm/BP_002_BP10_BA.png   \n",
      "..        ...    ...       ...            ...                    ...   \n",
      "83     2-Back    6.0     match          match    wm/PL_009_92037.png   \n",
      "84     2-Back    7.0  no_match       no_match    wm/PL_008_92033.png   \n",
      "85     2-Back    8.0  no_match       no_match    wm/PL_012_92047.png   \n",
      "86     2-Back    9.0  no_match       no_match    wm/PL_012_92047.png   \n",
      "87     2-Back   10.0  no_match       no_match    wm/PL_011_92044.png   \n",
      "\n",
      "   target_type stim_type    onset  duration  response_time  countdown_stim  \n",
      "0          NaN       NaN    0.000     1.984            NaN             4.0  \n",
      "1          NaN       NaN    2.000     1.984            NaN             3.0  \n",
      "2          NaN       NaN    4.000     1.984            NaN             2.0  \n",
      "3          NaN       NaN    6.566     1.418            NaN             1.0  \n",
      "4      nonlure      Body   10.549     0.805          0.805             NaN  \n",
      "..         ...       ...      ...       ...            ...             ...  \n",
      "83      target     Place  263.351     1.391          1.391             NaN  \n",
      "84     nonlure     Place  265.884     1.171          1.171             NaN  \n",
      "85     nonlure     Place  268.417     1.419          1.419             NaN  \n",
      "86        lure     Place  270.951     1.039          1.039             NaN  \n",
      "87     nonlure     Place  273.484     0.946          0.946             NaN  \n",
      "\n",
      "[88 rows x 11 columns]\n",
      "   trial_type  trial    answer correct_answer                stim_file  \\\n",
      "0   countdown    NaN       NaN            NaN                      NaN   \n",
      "1   countdown    NaN       NaN            NaN                      NaN   \n",
      "2   countdown    NaN       NaN            NaN                      NaN   \n",
      "3   countdown    NaN       NaN            NaN                      NaN   \n",
      "4      2-Back    1.0  no_match       no_match  wm/TO_014_TOOL14_BA.png   \n",
      "..        ...    ...       ...            ...                      ...   \n",
      "83     0-Back    6.0     match          match   wm/PL_021_SCENE_07.png   \n",
      "84     0-Back    7.0     match          match   wm/PL_021_SCENE_07.png   \n",
      "85     0-Back    8.0  no_match       no_match   wm/PL_023_SCENE_09.png   \n",
      "86     0-Back    9.0  no_match       no_match   wm/PL_024_SCENE_10.png   \n",
      "87     0-Back   10.0  no_match       no_match   wm/PL_022_SCENE_08.png   \n",
      "\n",
      "   target_type stim_type    onset  duration  response_time  countdown_stim  \n",
      "0          NaN       NaN    0.000     1.992            NaN             4.0  \n",
      "1          NaN       NaN    2.000     1.992            NaN             3.0  \n",
      "2          NaN       NaN    4.000     1.992            NaN             2.0  \n",
      "3          NaN       NaN    6.000     1.992            NaN             1.0  \n",
      "4      nonlure     Tools   10.566     1.296          1.296             NaN  \n",
      "..         ...       ...      ...       ...            ...             ...  \n",
      "83      target     Place  263.287     0.655          0.655             NaN  \n",
      "84      target     Place  265.834     0.583          0.583             NaN  \n",
      "85     nonlure     Place  268.369     0.555          0.555             NaN  \n",
      "86     nonlure     Place  270.902     0.487          0.487             NaN  \n",
      "87        lure     Place  273.436     0.610          0.610             NaN  \n",
      "\n",
      "[88 rows x 11 columns]\n",
      "   trial_type  trial    answer correct_answer                stim_file  \\\n",
      "0   countdown    NaN       NaN            NaN                      NaN   \n",
      "1   countdown    NaN       NaN            NaN                      NaN   \n",
      "2   countdown    NaN       NaN            NaN                      NaN   \n",
      "3   countdown    NaN       NaN            NaN                      NaN   \n",
      "4         Cue    NaN       NaN            NaN  wm/TO_025_TOOL25_BA.png   \n",
      "..        ...    ...       ...            ...                      ...   \n",
      "83     2-Back    6.0  no_match       no_match   wm/BP_033_FLCHS_BA.png   \n",
      "84     2-Back    7.0  no_match       no_match   wm/BP_032_FLCHI_BA.png   \n",
      "85     2-Back    8.0  no_match       no_match   wm/BP_034_FLPUI_BA.png   \n",
      "86     2-Back    9.0  no_match       no_match   wm/BP_034_FLPUI_BA.png   \n",
      "87     2-Back   10.0  no_match       no_match   wm/BP_033_FLCHS_BA.png   \n",
      "\n",
      "   target_type stim_type    onset  duration  response_time  countdown_stim  \n",
      "0          NaN       NaN    0.000     1.993            NaN             4.0  \n",
      "1          NaN       NaN    1.998     1.995            NaN             3.0  \n",
      "2          NaN       NaN    3.998     1.995            NaN             2.0  \n",
      "3          NaN       NaN    5.998     1.995            NaN             1.0  \n",
      "4          NaN       NaN    8.031       NaN            NaN             NaN  \n",
      "..         ...       ...      ...       ...            ...             ...  \n",
      "83     nonlure      Body  263.783     0.734          0.734             NaN  \n",
      "84     nonlure      Body  266.316     1.789          1.789             NaN  \n",
      "85     nonlure      Body  268.850     1.817          1.817             NaN  \n",
      "86        lure      Body  271.382     1.198          1.198             NaN  \n",
      "87        lure      Body  273.915     1.441          1.441             NaN  \n",
      "\n",
      "[88 rows x 11 columns]\n",
      "   trial_type  trial    answer correct_answer                stim_file  \\\n",
      "0   countdown    NaN       NaN            NaN                      NaN   \n",
      "1   countdown    NaN       NaN            NaN                      NaN   \n",
      "2   countdown    NaN       NaN            NaN                      NaN   \n",
      "3   countdown    NaN       NaN            NaN                      NaN   \n",
      "4         Cue    NaN       NaN            NaN        wm/FC_037_M19.png   \n",
      "..        ...    ...       ...            ...                      ...   \n",
      "83     2-Back    6.0  no_match       no_match  wm/TO_044_TOOL44_BA.png   \n",
      "84     2-Back    7.0  no_match       no_match  wm/TO_043_TOOL43_BA.png   \n",
      "85     2-Back    8.0     match          match  wm/TO_044_TOOL44_BA.png   \n",
      "86     2-Back    9.0  no_match       no_match  wm/TO_048_TOOL48_BA.png   \n",
      "87     2-Back   10.0  no_match       no_match  wm/TO_047_TOOL47_BA.png   \n",
      "\n",
      "   target_type stim_type    onset  duration  response_time  countdown_stim  \n",
      "0          NaN       NaN    0.000     1.994            NaN             4.0  \n",
      "1          NaN       NaN    1.999     1.995            NaN             3.0  \n",
      "2          NaN       NaN    3.999     1.995            NaN             2.0  \n",
      "3          NaN       NaN    5.999     1.995            NaN             1.0  \n",
      "4          NaN       NaN    8.099       NaN            NaN             NaN  \n",
      "..         ...       ...      ...       ...            ...             ...  \n",
      "83     nonlure     Tools  263.534     0.838          0.838             NaN  \n",
      "84        lure     Tools  266.067     1.716          1.716             NaN  \n",
      "85      target     Tools  268.601     1.224          1.224             NaN  \n",
      "86     nonlure     Tools  271.134     1.431          1.431             NaN  \n",
      "87     nonlure     Tools  273.667     0.970          0.970             NaN  \n",
      "\n",
      "[88 rows x 11 columns]\n",
      "   trial_type  trial    answer correct_answer              stim_file  \\\n",
      "0   countdown    NaN       NaN            NaN                    NaN   \n",
      "1   countdown    NaN       NaN            NaN                    NaN   \n",
      "2   countdown    NaN       NaN            NaN                    NaN   \n",
      "3   countdown    NaN       NaN            NaN                    NaN   \n",
      "4      2-Back    1.0  no_match       no_match  wm/BP_002_BP10_BA.png   \n",
      "..        ...    ...       ...            ...                    ...   \n",
      "83     2-Back    6.0     match          match    wm/PL_009_92037.png   \n",
      "84     2-Back    7.0  no_match       no_match    wm/PL_008_92033.png   \n",
      "85     2-Back    8.0  no_match       no_match    wm/PL_012_92047.png   \n",
      "86     2-Back    9.0  no_match       no_match    wm/PL_012_92047.png   \n",
      "87     2-Back   10.0  no_match       no_match    wm/PL_011_92044.png   \n",
      "\n",
      "   target_type stim_type    onset  duration  response_time  countdown_stim  \n",
      "0          NaN       NaN    0.000     1.996            NaN             4.0  \n",
      "1          NaN       NaN    1.999     1.997            NaN             3.0  \n",
      "2          NaN       NaN    3.999     1.997            NaN             2.0  \n",
      "3          NaN       NaN    6.049     1.947            NaN             1.0  \n",
      "4      nonlure      Body   10.582     1.411          1.411             NaN  \n",
      "..         ...       ...      ...       ...            ...             ...  \n",
      "83      target     Place  263.134     1.508          1.508             NaN  \n",
      "84     nonlure     Place  265.667     1.771          1.771             NaN  \n",
      "85     nonlure     Place  268.200     1.477          1.477             NaN  \n",
      "86        lure     Place  270.733     0.872          0.872             NaN  \n",
      "87     nonlure     Place  273.266     1.472          1.472             NaN  \n",
      "\n",
      "[88 rows x 11 columns]\n",
      "   trial_type  trial    answer correct_answer                stim_file  \\\n",
      "0   countdown    NaN       NaN            NaN                      NaN   \n",
      "1   countdown    NaN       NaN            NaN                      NaN   \n",
      "2   countdown    NaN       NaN            NaN                      NaN   \n",
      "3   countdown    NaN       NaN            NaN                      NaN   \n",
      "4      2-Back    1.0       NaN       no_match  wm/TO_014_TOOL14_BA.png   \n",
      "..        ...    ...       ...            ...                      ...   \n",
      "83     0-Back    6.0     match          match   wm/PL_021_SCENE_07.png   \n",
      "84     0-Back    7.0     match          match   wm/PL_021_SCENE_07.png   \n",
      "85     0-Back    8.0  no_match       no_match   wm/PL_023_SCENE_09.png   \n",
      "86     0-Back    9.0  no_match       no_match   wm/PL_024_SCENE_10.png   \n",
      "87     0-Back   10.0  no_match       no_match   wm/PL_022_SCENE_08.png   \n",
      "\n",
      "   target_type stim_type    onset  duration  response_time  countdown_stim  \n",
      "0          NaN       NaN    0.000     1.988            NaN             4.0  \n",
      "1          NaN       NaN    1.998     1.990            NaN             3.0  \n",
      "2          NaN       NaN    3.998     1.990            NaN             2.0  \n",
      "3          NaN       NaN    5.998     1.990            NaN             1.0  \n",
      "4      nonlure     Tools   10.565     0.000          0.000             NaN  \n",
      "..         ...       ...      ...       ...            ...             ...  \n",
      "83      target     Place  263.369     0.732          0.732             NaN  \n",
      "84      target     Place  265.902     0.776          0.776             NaN  \n",
      "85     nonlure     Place  268.434     0.706          0.706             NaN  \n",
      "86     nonlure     Place  270.967     0.596          0.596             NaN  \n",
      "87        lure     Place  273.501     0.710          0.710             NaN  \n",
      "\n",
      "[88 rows x 11 columns]\n",
      "   trial_type  trial    answer correct_answer                stim_file  \\\n",
      "0   countdown    NaN       NaN            NaN                      NaN   \n",
      "1   countdown    NaN       NaN            NaN                      NaN   \n",
      "2   countdown    NaN       NaN            NaN                      NaN   \n",
      "3   countdown    NaN       NaN            NaN                      NaN   \n",
      "4         Cue    NaN       NaN            NaN  wm/TO_025_TOOL25_BA.png   \n",
      "..        ...    ...       ...            ...                      ...   \n",
      "83     2-Back    6.0  no_match       no_match   wm/BP_033_FLCHS_BA.png   \n",
      "84     2-Back    7.0  no_match       no_match   wm/BP_032_FLCHI_BA.png   \n",
      "85     2-Back    8.0  no_match       no_match   wm/BP_034_FLPUI_BA.png   \n",
      "86     2-Back    9.0  no_match       no_match   wm/BP_034_FLPUI_BA.png   \n",
      "87     2-Back   10.0  no_match       no_match   wm/BP_033_FLCHS_BA.png   \n",
      "\n",
      "   target_type stim_type    onset  duration  response_time  countdown_stim  \n",
      "0          NaN       NaN    0.000     1.993            NaN             4.0  \n",
      "1          NaN       NaN    2.000     1.992            NaN             3.0  \n",
      "2          NaN       NaN    3.999     1.993            NaN             2.0  \n",
      "3          NaN       NaN    5.999     1.993            NaN             1.0  \n",
      "4          NaN       NaN    8.017       NaN            NaN             NaN  \n",
      "..         ...       ...      ...       ...            ...             ...  \n",
      "83     nonlure      Body  263.334     1.310          1.310             NaN  \n",
      "84     nonlure      Body  265.867     1.642          1.642             NaN  \n",
      "85     nonlure      Body  268.400     1.719          1.719             NaN  \n",
      "86        lure      Body  270.934     0.889          0.889             NaN  \n",
      "87        lure      Body  273.467     1.565          1.565             NaN  \n",
      "\n",
      "[88 rows x 11 columns]\n",
      "   trial_type  trial    answer correct_answer                stim_file  \\\n",
      "0   countdown    NaN       NaN            NaN                      NaN   \n",
      "1   countdown    NaN       NaN            NaN                      NaN   \n",
      "2   countdown    NaN       NaN            NaN                      NaN   \n",
      "3   countdown    NaN       NaN            NaN                      NaN   \n",
      "4         Cue    NaN       NaN            NaN        wm/FC_037_M19.png   \n",
      "..        ...    ...       ...            ...                      ...   \n",
      "83     2-Back    6.0  no_match       no_match  wm/TO_044_TOOL44_BA.png   \n",
      "84     2-Back    7.0  no_match       no_match  wm/TO_043_TOOL43_BA.png   \n",
      "85     2-Back    8.0  no_match          match  wm/TO_044_TOOL44_BA.png   \n",
      "86     2-Back    9.0  no_match       no_match  wm/TO_048_TOOL48_BA.png   \n",
      "87     2-Back   10.0  no_match       no_match  wm/TO_047_TOOL47_BA.png   \n",
      "\n",
      "   target_type stim_type    onset  duration  response_time  countdown_stim  \n",
      "0          NaN       NaN    0.000     1.994            NaN             4.0  \n",
      "1          NaN       NaN    1.997     1.997            NaN             3.0  \n",
      "2          NaN       NaN    3.997     1.997            NaN             2.0  \n",
      "3          NaN       NaN    6.080     1.914            NaN             1.0  \n",
      "4          NaN       NaN    8.013       NaN            NaN             NaN  \n",
      "..         ...       ...      ...       ...            ...             ...  \n",
      "83     nonlure     Tools  263.014     1.467          1.467             NaN  \n",
      "84        lure     Tools  265.547     1.372          1.372             NaN  \n",
      "85      target     Tools  268.080     1.702          1.702             NaN  \n",
      "86     nonlure     Tools  270.614     1.178          1.178             NaN  \n",
      "87     nonlure     Tools  273.147     1.109          1.109             NaN  \n",
      "\n",
      "[88 rows x 11 columns]\n",
      "   trial_type  trial    answer correct_answer              stim_file  \\\n",
      "0   countdown    NaN       NaN            NaN                    NaN   \n",
      "1   countdown    NaN       NaN            NaN                    NaN   \n",
      "2   countdown    NaN       NaN            NaN                    NaN   \n",
      "3   countdown    NaN       NaN            NaN                    NaN   \n",
      "4      2-Back    1.0  no_match       no_match  wm/BP_002_BP10_BA.png   \n",
      "..        ...    ...       ...            ...                    ...   \n",
      "83     2-Back    6.0     match          match    wm/PL_009_92037.png   \n",
      "84     2-Back    7.0  no_match       no_match    wm/PL_008_92033.png   \n",
      "85     2-Back    8.0  no_match       no_match    wm/PL_012_92047.png   \n",
      "86     2-Back    9.0  no_match       no_match    wm/PL_012_92047.png   \n",
      "87     2-Back   10.0  no_match       no_match    wm/PL_011_92044.png   \n",
      "\n",
      "   target_type stim_type    onset  duration  response_time  countdown_stim  \n",
      "0          NaN       NaN    0.000     1.994            NaN             4.0  \n",
      "1          NaN       NaN    2.000     1.994            NaN             3.0  \n",
      "2          NaN       NaN    4.000     1.994            NaN             2.0  \n",
      "3          NaN       NaN    6.083     1.911            NaN             1.0  \n",
      "4      nonlure      Body   10.533     1.519          1.519             NaN  \n",
      "..         ...       ...      ...       ...            ...             ...  \n",
      "83      target     Place  263.017     0.924          0.924             NaN  \n",
      "84     nonlure     Place  265.550     1.126          1.126             NaN  \n",
      "85     nonlure     Place  268.083     1.612          1.612             NaN  \n",
      "86        lure     Place  270.617     1.077          1.077             NaN  \n",
      "87     nonlure     Place  273.150     0.898          0.898             NaN  \n",
      "\n",
      "[88 rows x 11 columns]\n",
      "   trial_type  trial    answer correct_answer                stim_file  \\\n",
      "0   countdown    NaN       NaN            NaN                      NaN   \n",
      "1   countdown    NaN       NaN            NaN                      NaN   \n",
      "2   countdown    NaN       NaN            NaN                      NaN   \n",
      "3   countdown    NaN       NaN            NaN                      NaN   \n",
      "4      2-Back    1.0  no_match       no_match  wm/TO_014_TOOL14_BA.png   \n",
      "..        ...    ...       ...            ...                      ...   \n",
      "83     0-Back    6.0     match          match   wm/PL_021_SCENE_07.png   \n",
      "84     0-Back    7.0     match          match   wm/PL_021_SCENE_07.png   \n",
      "85     0-Back    8.0  no_match       no_match   wm/PL_023_SCENE_09.png   \n",
      "86     0-Back    9.0  no_match       no_match   wm/PL_024_SCENE_10.png   \n",
      "87     0-Back   10.0  no_match       no_match   wm/PL_022_SCENE_08.png   \n",
      "\n",
      "   target_type stim_type    onset  duration  response_time  countdown_stim  \n",
      "0          NaN       NaN    0.000     1.996            NaN             4.0  \n",
      "1          NaN       NaN    2.000     1.996            NaN             3.0  \n",
      "2          NaN       NaN    3.999     1.997            NaN             2.0  \n",
      "3          NaN       NaN    5.999     1.997            NaN             1.0  \n",
      "4      nonlure     Tools   10.582     1.456          1.456             NaN  \n",
      "..         ...       ...      ...       ...            ...             ...  \n",
      "83      target     Place  263.435     1.117          1.117             NaN  \n",
      "84      target     Place  265.969     0.996          0.996             NaN  \n",
      "85     nonlure     Place  268.501     0.752          0.752             NaN  \n",
      "86     nonlure     Place  271.034     1.064          1.064             NaN  \n",
      "87        lure     Place  273.568     0.833          0.833             NaN  \n",
      "\n",
      "[88 rows x 11 columns]\n",
      "######### 事件文件读取完成! #########\n"
     ]
    }
   ],
   "source": [
    "# 加载和处理事件文件\n",
    "print('events文件数量:', len(events_path))\n",
    "\n",
    "events_files = []  # 存储事件数据\n",
    "for epath in events_path: \n",
    "    # 读取事件文件(TSV格式)\n",
    "    event = pd.read_csv(epath, sep = \"\\t\", encoding = \"utf8\", header = 0)\n",
    "    \n",
    "    print(event)\n",
    "    # 根据任务类型重新标记试验类型\n",
    "    if modality == 'wm':  # 工作记忆任务\n",
    "        # 将试验类型和刺激类型组合，如\"2-Back_Face\"\n",
    "        event.trial_type = event.trial_type.astype(str) + '_' + \\\n",
    "        event.stim_type.astype(str)\n",
    "        \n",
    "    if modality == 'relational':  # 关系任务\n",
    "        # 将试验类型和指令组合\n",
    "        event.trial_type = event.trial_type.astype(str) + '_' + \\\n",
    "        event.instruction.astype(str)\n",
    "\n",
    "    events_files.append(event)  # 添加到列表中\n",
    "\n",
    "print('######### 事件文件读取完成! #########') "
   ]
  },
  {
   "cell_type": "code",
   "execution_count": null,
   "id": "dc902ff8",
   "metadata": {},
   "outputs": [
    {
     "name": "stdout",
     "output_type": "stream",
     "text": [
      "[       trial_type  trial    answer correct_answer              stim_file  \\\n",
      "0   countdown_nan    NaN       NaN            NaN                    NaN   \n",
      "1   countdown_nan    NaN       NaN            NaN                    NaN   \n",
      "2   countdown_nan    NaN       NaN            NaN                    NaN   \n",
      "3   countdown_nan    NaN       NaN            NaN                    NaN   \n",
      "4     2-Back_Body    1.0  no_match       no_match  wm/BP_002_BP10_BA.png   \n",
      "..            ...    ...       ...            ...                    ...   \n",
      "83   2-Back_Place    6.0     match          match    wm/PL_009_92037.png   \n",
      "84   2-Back_Place    7.0  no_match       no_match    wm/PL_008_92033.png   \n",
      "85   2-Back_Place    8.0  no_match       no_match    wm/PL_012_92047.png   \n",
      "86   2-Back_Place    9.0  no_match       no_match    wm/PL_012_92047.png   \n",
      "87   2-Back_Place   10.0  no_match       no_match    wm/PL_011_92044.png   \n",
      "\n",
      "   target_type stim_type    onset  duration  response_time  countdown_stim  \n",
      "0          NaN       NaN    0.000     1.997            NaN             4.0  \n",
      "1          NaN       NaN    2.000     1.997            NaN             3.0  \n",
      "2          NaN       NaN    4.000     1.997            NaN             2.0  \n",
      "3          NaN       NaN    6.013     1.984            NaN             1.0  \n",
      "4      nonlure      Body   10.563     0.799          0.799             NaN  \n",
      "..         ...       ...      ...       ...            ...             ...  \n",
      "83      target     Place  263.048     1.402          1.402             NaN  \n",
      "84     nonlure     Place  265.581     0.780          0.780             NaN  \n",
      "85     nonlure     Place  268.115     0.769          0.769             NaN  \n",
      "86        lure     Place  270.648     0.865          0.865             NaN  \n",
      "87     nonlure     Place  273.181     1.357          1.357             NaN  \n",
      "\n",
      "[88 rows x 11 columns],        trial_type  trial    answer correct_answer                stim_file  \\\n",
      "0   countdown_nan    NaN       NaN            NaN                      NaN   \n",
      "1   countdown_nan    NaN       NaN            NaN                      NaN   \n",
      "2   countdown_nan    NaN       NaN            NaN                      NaN   \n",
      "3   countdown_nan    NaN       NaN            NaN                      NaN   \n",
      "4    2-Back_Tools    1.0  no_match       no_match  wm/TO_014_TOOL14_BA.png   \n",
      "..            ...    ...       ...            ...                      ...   \n",
      "83   0-Back_Place    6.0     match          match   wm/PL_021_SCENE_07.png   \n",
      "84   0-Back_Place    7.0     match          match   wm/PL_021_SCENE_07.png   \n",
      "85   0-Back_Place    8.0  no_match       no_match   wm/PL_023_SCENE_09.png   \n",
      "86   0-Back_Place    9.0  no_match       no_match   wm/PL_024_SCENE_10.png   \n",
      "87   0-Back_Place   10.0  no_match       no_match   wm/PL_022_SCENE_08.png   \n",
      "\n",
      "   target_type stim_type    onset  duration  response_time  countdown_stim  \n",
      "0          NaN       NaN    0.000     1.986            NaN             4.0  \n",
      "1          NaN       NaN    2.000     1.986            NaN             3.0  \n",
      "2          NaN       NaN    3.999     1.987            NaN             2.0  \n",
      "3          NaN       NaN    5.999     1.987            NaN             1.0  \n",
      "4      nonlure     Tools   10.516     1.444          1.444             NaN  \n",
      "..         ...       ...      ...       ...            ...             ...  \n",
      "83      target     Place  263.003     1.314          1.314             NaN  \n",
      "84      target     Place  265.536     0.623          0.623             NaN  \n",
      "85     nonlure     Place  268.069     0.914          0.914             NaN  \n",
      "86     nonlure     Place  270.602     0.831          0.831             NaN  \n",
      "87        lure     Place  273.136     0.883          0.883             NaN  \n",
      "\n",
      "[88 rows x 11 columns],        trial_type  trial    answer correct_answer                stim_file  \\\n",
      "0   countdown_nan    NaN       NaN            NaN                      NaN   \n",
      "1   countdown_nan    NaN       NaN            NaN                      NaN   \n",
      "2   countdown_nan    NaN       NaN            NaN                      NaN   \n",
      "3   countdown_nan    NaN       NaN            NaN                      NaN   \n",
      "4         Cue_nan    NaN       NaN            NaN  wm/TO_025_TOOL25_BA.png   \n",
      "..            ...    ...       ...            ...                      ...   \n",
      "83    2-Back_Body    6.0  no_match       no_match   wm/BP_033_FLCHS_BA.png   \n",
      "84    2-Back_Body    7.0  no_match       no_match   wm/BP_032_FLCHI_BA.png   \n",
      "85    2-Back_Body    8.0  no_match       no_match   wm/BP_034_FLPUI_BA.png   \n",
      "86    2-Back_Body    9.0  no_match       no_match   wm/BP_034_FLPUI_BA.png   \n",
      "87    2-Back_Body   10.0     match       no_match   wm/BP_033_FLCHS_BA.png   \n",
      "\n",
      "   target_type stim_type    onset  duration  response_time  countdown_stim  \n",
      "0          NaN       NaN    0.000     1.985            NaN             4.0  \n",
      "1          NaN       NaN    2.000     1.985            NaN             3.0  \n",
      "2          NaN       NaN    4.000     1.985            NaN             2.0  \n",
      "3          NaN       NaN    6.000     1.985            NaN             1.0  \n",
      "4          NaN       NaN    8.000       NaN            NaN             NaN  \n",
      "..         ...       ...      ...       ...            ...             ...  \n",
      "83     nonlure      Body  263.002     0.629          0.629             NaN  \n",
      "84     nonlure      Body  265.535     1.501          1.501             NaN  \n",
      "85     nonlure      Body  268.068     1.319          1.319             NaN  \n",
      "86        lure      Body  270.601     1.027          1.027             NaN  \n",
      "87        lure      Body  273.134     0.991          0.991             NaN  \n",
      "\n",
      "[88 rows x 11 columns],        trial_type  trial    answer correct_answer                stim_file  \\\n",
      "0   countdown_nan    NaN       NaN            NaN                      NaN   \n",
      "1   countdown_nan    NaN       NaN            NaN                      NaN   \n",
      "2   countdown_nan    NaN       NaN            NaN                      NaN   \n",
      "3   countdown_nan    NaN       NaN            NaN                      NaN   \n",
      "4         Cue_nan    NaN       NaN            NaN  wm/TO_025_TOOL25_BA.png   \n",
      "..            ...    ...       ...            ...                      ...   \n",
      "83    2-Back_Body    6.0  no_match       no_match   wm/BP_033_FLCHS_BA.png   \n",
      "84    2-Back_Body    7.0  no_match       no_match   wm/BP_032_FLCHI_BA.png   \n",
      "85    2-Back_Body    8.0  no_match       no_match   wm/BP_034_FLPUI_BA.png   \n",
      "86    2-Back_Body    9.0  no_match       no_match   wm/BP_034_FLPUI_BA.png   \n",
      "87    2-Back_Body   10.0  no_match       no_match   wm/BP_033_FLCHS_BA.png   \n",
      "\n",
      "   target_type stim_type    onset  duration  response_time  countdown_stim  \n",
      "0          NaN       NaN    0.000     1.991            NaN             4.0  \n",
      "1          NaN       NaN    2.000     1.991            NaN             3.0  \n",
      "2          NaN       NaN    4.000     1.991            NaN             2.0  \n",
      "3          NaN       NaN    5.999     1.992            NaN             1.0  \n",
      "4          NaN       NaN    8.002       NaN            NaN             NaN  \n",
      "..         ...       ...      ...       ...            ...             ...  \n",
      "83     nonlure      Body  263.034     1.491          1.491             NaN  \n",
      "84     nonlure      Body  265.567     1.352          1.352             NaN  \n",
      "85     nonlure      Body  268.101     0.970          0.970             NaN  \n",
      "86        lure      Body  270.634     0.851          0.851             NaN  \n",
      "87        lure      Body  273.167     1.411          1.411             NaN  \n",
      "\n",
      "[88 rows x 11 columns],        trial_type  trial    answer correct_answer                stim_file  \\\n",
      "0   countdown_nan    NaN       NaN            NaN                      NaN   \n",
      "1   countdown_nan    NaN       NaN            NaN                      NaN   \n",
      "2   countdown_nan    NaN       NaN            NaN                      NaN   \n",
      "3   countdown_nan    NaN       NaN            NaN                      NaN   \n",
      "4         Cue_nan    NaN       NaN            NaN        wm/FC_037_M19.png   \n",
      "..            ...    ...       ...            ...                      ...   \n",
      "83   2-Back_Tools    6.0  no_match       no_match  wm/TO_044_TOOL44_BA.png   \n",
      "84   2-Back_Tools    7.0  no_match       no_match  wm/TO_043_TOOL43_BA.png   \n",
      "85   2-Back_Tools    8.0     match          match  wm/TO_044_TOOL44_BA.png   \n",
      "86   2-Back_Tools    9.0  no_match       no_match  wm/TO_048_TOOL48_BA.png   \n",
      "87   2-Back_Tools   10.0  no_match       no_match  wm/TO_047_TOOL47_BA.png   \n",
      "\n",
      "   target_type stim_type    onset  duration  response_time  countdown_stim  \n",
      "0          NaN       NaN    0.000     1.983            NaN             4.0  \n",
      "1          NaN       NaN    1.986     1.997            NaN             3.0  \n",
      "2          NaN       NaN    3.986     1.997            NaN             2.0  \n",
      "3          NaN       NaN    5.999     1.984            NaN             1.0  \n",
      "4          NaN       NaN    7.999       NaN            NaN             NaN  \n",
      "..         ...       ...      ...       ...            ...             ...  \n",
      "83     nonlure     Tools  263.001     0.860          0.860             NaN  \n",
      "84        lure     Tools  265.534     1.241          1.241             NaN  \n",
      "85      target     Tools  268.067     1.057          1.057             NaN  \n",
      "86     nonlure     Tools  270.600     1.232          1.232             NaN  \n",
      "87     nonlure     Tools  273.134     1.123          1.123             NaN  \n",
      "\n",
      "[88 rows x 11 columns],        trial_type  trial    answer correct_answer              stim_file  \\\n",
      "0   countdown_nan    NaN       NaN            NaN                    NaN   \n",
      "1   countdown_nan    NaN       NaN            NaN                    NaN   \n",
      "2   countdown_nan    NaN       NaN            NaN                    NaN   \n",
      "3   countdown_nan    NaN       NaN            NaN                    NaN   \n",
      "4     2-Back_Body    1.0  no_match       no_match  wm/BP_002_BP10_BA.png   \n",
      "..            ...    ...       ...            ...                    ...   \n",
      "83   2-Back_Place    6.0     match          match    wm/PL_009_92037.png   \n",
      "84   2-Back_Place    7.0  no_match       no_match    wm/PL_008_92033.png   \n",
      "85   2-Back_Place    8.0  no_match       no_match    wm/PL_012_92047.png   \n",
      "86   2-Back_Place    9.0  no_match       no_match    wm/PL_012_92047.png   \n",
      "87   2-Back_Place   10.0  no_match       no_match    wm/PL_011_92044.png   \n",
      "\n",
      "   target_type stim_type    onset  duration  response_time  countdown_stim  \n",
      "0          NaN       NaN    0.000     1.984            NaN             4.0  \n",
      "1          NaN       NaN    2.000     1.984            NaN             3.0  \n",
      "2          NaN       NaN    4.000     1.984            NaN             2.0  \n",
      "3          NaN       NaN    6.566     1.418            NaN             1.0  \n",
      "4      nonlure      Body   10.549     0.805          0.805             NaN  \n",
      "..         ...       ...      ...       ...            ...             ...  \n",
      "83      target     Place  263.351     1.391          1.391             NaN  \n",
      "84     nonlure     Place  265.884     1.171          1.171             NaN  \n",
      "85     nonlure     Place  268.417     1.419          1.419             NaN  \n",
      "86        lure     Place  270.951     1.039          1.039             NaN  \n",
      "87     nonlure     Place  273.484     0.946          0.946             NaN  \n",
      "\n",
      "[88 rows x 11 columns],        trial_type  trial    answer correct_answer                stim_file  \\\n",
      "0   countdown_nan    NaN       NaN            NaN                      NaN   \n",
      "1   countdown_nan    NaN       NaN            NaN                      NaN   \n",
      "2   countdown_nan    NaN       NaN            NaN                      NaN   \n",
      "3   countdown_nan    NaN       NaN            NaN                      NaN   \n",
      "4    2-Back_Tools    1.0  no_match       no_match  wm/TO_014_TOOL14_BA.png   \n",
      "..            ...    ...       ...            ...                      ...   \n",
      "83   0-Back_Place    6.0     match          match   wm/PL_021_SCENE_07.png   \n",
      "84   0-Back_Place    7.0     match          match   wm/PL_021_SCENE_07.png   \n",
      "85   0-Back_Place    8.0  no_match       no_match   wm/PL_023_SCENE_09.png   \n",
      "86   0-Back_Place    9.0  no_match       no_match   wm/PL_024_SCENE_10.png   \n",
      "87   0-Back_Place   10.0  no_match       no_match   wm/PL_022_SCENE_08.png   \n",
      "\n",
      "   target_type stim_type    onset  duration  response_time  countdown_stim  \n",
      "0          NaN       NaN    0.000     1.992            NaN             4.0  \n",
      "1          NaN       NaN    2.000     1.992            NaN             3.0  \n",
      "2          NaN       NaN    4.000     1.992            NaN             2.0  \n",
      "3          NaN       NaN    6.000     1.992            NaN             1.0  \n",
      "4      nonlure     Tools   10.566     1.296          1.296             NaN  \n",
      "..         ...       ...      ...       ...            ...             ...  \n",
      "83      target     Place  263.287     0.655          0.655             NaN  \n",
      "84      target     Place  265.834     0.583          0.583             NaN  \n",
      "85     nonlure     Place  268.369     0.555          0.555             NaN  \n",
      "86     nonlure     Place  270.902     0.487          0.487             NaN  \n",
      "87        lure     Place  273.436     0.610          0.610             NaN  \n",
      "\n",
      "[88 rows x 11 columns],        trial_type  trial    answer correct_answer                stim_file  \\\n",
      "0   countdown_nan    NaN       NaN            NaN                      NaN   \n",
      "1   countdown_nan    NaN       NaN            NaN                      NaN   \n",
      "2   countdown_nan    NaN       NaN            NaN                      NaN   \n",
      "3   countdown_nan    NaN       NaN            NaN                      NaN   \n",
      "4         Cue_nan    NaN       NaN            NaN  wm/TO_025_TOOL25_BA.png   \n",
      "..            ...    ...       ...            ...                      ...   \n",
      "83    2-Back_Body    6.0  no_match       no_match   wm/BP_033_FLCHS_BA.png   \n",
      "84    2-Back_Body    7.0  no_match       no_match   wm/BP_032_FLCHI_BA.png   \n",
      "85    2-Back_Body    8.0  no_match       no_match   wm/BP_034_FLPUI_BA.png   \n",
      "86    2-Back_Body    9.0  no_match       no_match   wm/BP_034_FLPUI_BA.png   \n",
      "87    2-Back_Body   10.0  no_match       no_match   wm/BP_033_FLCHS_BA.png   \n",
      "\n",
      "   target_type stim_type    onset  duration  response_time  countdown_stim  \n",
      "0          NaN       NaN    0.000     1.993            NaN             4.0  \n",
      "1          NaN       NaN    1.998     1.995            NaN             3.0  \n",
      "2          NaN       NaN    3.998     1.995            NaN             2.0  \n",
      "3          NaN       NaN    5.998     1.995            NaN             1.0  \n",
      "4          NaN       NaN    8.031       NaN            NaN             NaN  \n",
      "..         ...       ...      ...       ...            ...             ...  \n",
      "83     nonlure      Body  263.783     0.734          0.734             NaN  \n",
      "84     nonlure      Body  266.316     1.789          1.789             NaN  \n",
      "85     nonlure      Body  268.850     1.817          1.817             NaN  \n",
      "86        lure      Body  271.382     1.198          1.198             NaN  \n",
      "87        lure      Body  273.915     1.441          1.441             NaN  \n",
      "\n",
      "[88 rows x 11 columns],        trial_type  trial    answer correct_answer                stim_file  \\\n",
      "0   countdown_nan    NaN       NaN            NaN                      NaN   \n",
      "1   countdown_nan    NaN       NaN            NaN                      NaN   \n",
      "2   countdown_nan    NaN       NaN            NaN                      NaN   \n",
      "3   countdown_nan    NaN       NaN            NaN                      NaN   \n",
      "4         Cue_nan    NaN       NaN            NaN        wm/FC_037_M19.png   \n",
      "..            ...    ...       ...            ...                      ...   \n",
      "83   2-Back_Tools    6.0  no_match       no_match  wm/TO_044_TOOL44_BA.png   \n",
      "84   2-Back_Tools    7.0  no_match       no_match  wm/TO_043_TOOL43_BA.png   \n",
      "85   2-Back_Tools    8.0     match          match  wm/TO_044_TOOL44_BA.png   \n",
      "86   2-Back_Tools    9.0  no_match       no_match  wm/TO_048_TOOL48_BA.png   \n",
      "87   2-Back_Tools   10.0  no_match       no_match  wm/TO_047_TOOL47_BA.png   \n",
      "\n",
      "   target_type stim_type    onset  duration  response_time  countdown_stim  \n",
      "0          NaN       NaN    0.000     1.994            NaN             4.0  \n",
      "1          NaN       NaN    1.999     1.995            NaN             3.0  \n",
      "2          NaN       NaN    3.999     1.995            NaN             2.0  \n",
      "3          NaN       NaN    5.999     1.995            NaN             1.0  \n",
      "4          NaN       NaN    8.099       NaN            NaN             NaN  \n",
      "..         ...       ...      ...       ...            ...             ...  \n",
      "83     nonlure     Tools  263.534     0.838          0.838             NaN  \n",
      "84        lure     Tools  266.067     1.716          1.716             NaN  \n",
      "85      target     Tools  268.601     1.224          1.224             NaN  \n",
      "86     nonlure     Tools  271.134     1.431          1.431             NaN  \n",
      "87     nonlure     Tools  273.667     0.970          0.970             NaN  \n",
      "\n",
      "[88 rows x 11 columns],        trial_type  trial    answer correct_answer              stim_file  \\\n",
      "0   countdown_nan    NaN       NaN            NaN                    NaN   \n",
      "1   countdown_nan    NaN       NaN            NaN                    NaN   \n",
      "2   countdown_nan    NaN       NaN            NaN                    NaN   \n",
      "3   countdown_nan    NaN       NaN            NaN                    NaN   \n",
      "4     2-Back_Body    1.0  no_match       no_match  wm/BP_002_BP10_BA.png   \n",
      "..            ...    ...       ...            ...                    ...   \n",
      "83   2-Back_Place    6.0     match          match    wm/PL_009_92037.png   \n",
      "84   2-Back_Place    7.0  no_match       no_match    wm/PL_008_92033.png   \n",
      "85   2-Back_Place    8.0  no_match       no_match    wm/PL_012_92047.png   \n",
      "86   2-Back_Place    9.0  no_match       no_match    wm/PL_012_92047.png   \n",
      "87   2-Back_Place   10.0  no_match       no_match    wm/PL_011_92044.png   \n",
      "\n",
      "   target_type stim_type    onset  duration  response_time  countdown_stim  \n",
      "0          NaN       NaN    0.000     1.996            NaN             4.0  \n",
      "1          NaN       NaN    1.999     1.997            NaN             3.0  \n",
      "2          NaN       NaN    3.999     1.997            NaN             2.0  \n",
      "3          NaN       NaN    6.049     1.947            NaN             1.0  \n",
      "4      nonlure      Body   10.582     1.411          1.411             NaN  \n",
      "..         ...       ...      ...       ...            ...             ...  \n",
      "83      target     Place  263.134     1.508          1.508             NaN  \n",
      "84     nonlure     Place  265.667     1.771          1.771             NaN  \n",
      "85     nonlure     Place  268.200     1.477          1.477             NaN  \n",
      "86        lure     Place  270.733     0.872          0.872             NaN  \n",
      "87     nonlure     Place  273.266     1.472          1.472             NaN  \n",
      "\n",
      "[88 rows x 11 columns],        trial_type  trial    answer correct_answer                stim_file  \\\n",
      "0   countdown_nan    NaN       NaN            NaN                      NaN   \n",
      "1   countdown_nan    NaN       NaN            NaN                      NaN   \n",
      "2   countdown_nan    NaN       NaN            NaN                      NaN   \n",
      "3   countdown_nan    NaN       NaN            NaN                      NaN   \n",
      "4    2-Back_Tools    1.0       NaN       no_match  wm/TO_014_TOOL14_BA.png   \n",
      "..            ...    ...       ...            ...                      ...   \n",
      "83   0-Back_Place    6.0     match          match   wm/PL_021_SCENE_07.png   \n",
      "84   0-Back_Place    7.0     match          match   wm/PL_021_SCENE_07.png   \n",
      "85   0-Back_Place    8.0  no_match       no_match   wm/PL_023_SCENE_09.png   \n",
      "86   0-Back_Place    9.0  no_match       no_match   wm/PL_024_SCENE_10.png   \n",
      "87   0-Back_Place   10.0  no_match       no_match   wm/PL_022_SCENE_08.png   \n",
      "\n",
      "   target_type stim_type    onset  duration  response_time  countdown_stim  \n",
      "0          NaN       NaN    0.000     1.988            NaN             4.0  \n",
      "1          NaN       NaN    1.998     1.990            NaN             3.0  \n",
      "2          NaN       NaN    3.998     1.990            NaN             2.0  \n",
      "3          NaN       NaN    5.998     1.990            NaN             1.0  \n",
      "4      nonlure     Tools   10.565     0.000          0.000             NaN  \n",
      "..         ...       ...      ...       ...            ...             ...  \n",
      "83      target     Place  263.369     0.732          0.732             NaN  \n",
      "84      target     Place  265.902     0.776          0.776             NaN  \n",
      "85     nonlure     Place  268.434     0.706          0.706             NaN  \n",
      "86     nonlure     Place  270.967     0.596          0.596             NaN  \n",
      "87        lure     Place  273.501     0.710          0.710             NaN  \n",
      "\n",
      "[88 rows x 11 columns],        trial_type  trial    answer correct_answer                stim_file  \\\n",
      "0   countdown_nan    NaN       NaN            NaN                      NaN   \n",
      "1   countdown_nan    NaN       NaN            NaN                      NaN   \n",
      "2   countdown_nan    NaN       NaN            NaN                      NaN   \n",
      "3   countdown_nan    NaN       NaN            NaN                      NaN   \n",
      "4         Cue_nan    NaN       NaN            NaN  wm/TO_025_TOOL25_BA.png   \n",
      "..            ...    ...       ...            ...                      ...   \n",
      "83    2-Back_Body    6.0  no_match       no_match   wm/BP_033_FLCHS_BA.png   \n",
      "84    2-Back_Body    7.0  no_match       no_match   wm/BP_032_FLCHI_BA.png   \n",
      "85    2-Back_Body    8.0  no_match       no_match   wm/BP_034_FLPUI_BA.png   \n",
      "86    2-Back_Body    9.0  no_match       no_match   wm/BP_034_FLPUI_BA.png   \n",
      "87    2-Back_Body   10.0  no_match       no_match   wm/BP_033_FLCHS_BA.png   \n",
      "\n",
      "   target_type stim_type    onset  duration  response_time  countdown_stim  \n",
      "0          NaN       NaN    0.000     1.993            NaN             4.0  \n",
      "1          NaN       NaN    2.000     1.992            NaN             3.0  \n",
      "2          NaN       NaN    3.999     1.993            NaN             2.0  \n",
      "3          NaN       NaN    5.999     1.993            NaN             1.0  \n",
      "4          NaN       NaN    8.017       NaN            NaN             NaN  \n",
      "..         ...       ...      ...       ...            ...             ...  \n",
      "83     nonlure      Body  263.334     1.310          1.310             NaN  \n",
      "84     nonlure      Body  265.867     1.642          1.642             NaN  \n",
      "85     nonlure      Body  268.400     1.719          1.719             NaN  \n",
      "86        lure      Body  270.934     0.889          0.889             NaN  \n",
      "87        lure      Body  273.467     1.565          1.565             NaN  \n",
      "\n",
      "[88 rows x 11 columns],        trial_type  trial    answer correct_answer                stim_file  \\\n",
      "0   countdown_nan    NaN       NaN            NaN                      NaN   \n",
      "1   countdown_nan    NaN       NaN            NaN                      NaN   \n",
      "2   countdown_nan    NaN       NaN            NaN                      NaN   \n",
      "3   countdown_nan    NaN       NaN            NaN                      NaN   \n",
      "4         Cue_nan    NaN       NaN            NaN        wm/FC_037_M19.png   \n",
      "..            ...    ...       ...            ...                      ...   \n",
      "83   2-Back_Tools    6.0  no_match       no_match  wm/TO_044_TOOL44_BA.png   \n",
      "84   2-Back_Tools    7.0  no_match       no_match  wm/TO_043_TOOL43_BA.png   \n",
      "85   2-Back_Tools    8.0  no_match          match  wm/TO_044_TOOL44_BA.png   \n",
      "86   2-Back_Tools    9.0  no_match       no_match  wm/TO_048_TOOL48_BA.png   \n",
      "87   2-Back_Tools   10.0  no_match       no_match  wm/TO_047_TOOL47_BA.png   \n",
      "\n",
      "   target_type stim_type    onset  duration  response_time  countdown_stim  \n",
      "0          NaN       NaN    0.000     1.994            NaN             4.0  \n",
      "1          NaN       NaN    1.997     1.997            NaN             3.0  \n",
      "2          NaN       NaN    3.997     1.997            NaN             2.0  \n",
      "3          NaN       NaN    6.080     1.914            NaN             1.0  \n",
      "4          NaN       NaN    8.013       NaN            NaN             NaN  \n",
      "..         ...       ...      ...       ...            ...             ...  \n",
      "83     nonlure     Tools  263.014     1.467          1.467             NaN  \n",
      "84        lure     Tools  265.547     1.372          1.372             NaN  \n",
      "85      target     Tools  268.080     1.702          1.702             NaN  \n",
      "86     nonlure     Tools  270.614     1.178          1.178             NaN  \n",
      "87     nonlure     Tools  273.147     1.109          1.109             NaN  \n",
      "\n",
      "[88 rows x 11 columns],        trial_type  trial    answer correct_answer              stim_file  \\\n",
      "0   countdown_nan    NaN       NaN            NaN                    NaN   \n",
      "1   countdown_nan    NaN       NaN            NaN                    NaN   \n",
      "2   countdown_nan    NaN       NaN            NaN                    NaN   \n",
      "3   countdown_nan    NaN       NaN            NaN                    NaN   \n",
      "4     2-Back_Body    1.0  no_match       no_match  wm/BP_002_BP10_BA.png   \n",
      "..            ...    ...       ...            ...                    ...   \n",
      "83   2-Back_Place    6.0     match          match    wm/PL_009_92037.png   \n",
      "84   2-Back_Place    7.0  no_match       no_match    wm/PL_008_92033.png   \n",
      "85   2-Back_Place    8.0  no_match       no_match    wm/PL_012_92047.png   \n",
      "86   2-Back_Place    9.0  no_match       no_match    wm/PL_012_92047.png   \n",
      "87   2-Back_Place   10.0  no_match       no_match    wm/PL_011_92044.png   \n",
      "\n",
      "   target_type stim_type    onset  duration  response_time  countdown_stim  \n",
      "0          NaN       NaN    0.000     1.994            NaN             4.0  \n",
      "1          NaN       NaN    2.000     1.994            NaN             3.0  \n",
      "2          NaN       NaN    4.000     1.994            NaN             2.0  \n",
      "3          NaN       NaN    6.083     1.911            NaN             1.0  \n",
      "4      nonlure      Body   10.533     1.519          1.519             NaN  \n",
      "..         ...       ...      ...       ...            ...             ...  \n",
      "83      target     Place  263.017     0.924          0.924             NaN  \n",
      "84     nonlure     Place  265.550     1.126          1.126             NaN  \n",
      "85     nonlure     Place  268.083     1.612          1.612             NaN  \n",
      "86        lure     Place  270.617     1.077          1.077             NaN  \n",
      "87     nonlure     Place  273.150     0.898          0.898             NaN  \n",
      "\n",
      "[88 rows x 11 columns],        trial_type  trial    answer correct_answer                stim_file  \\\n",
      "0   countdown_nan    NaN       NaN            NaN                      NaN   \n",
      "1   countdown_nan    NaN       NaN            NaN                      NaN   \n",
      "2   countdown_nan    NaN       NaN            NaN                      NaN   \n",
      "3   countdown_nan    NaN       NaN            NaN                      NaN   \n",
      "4    2-Back_Tools    1.0  no_match       no_match  wm/TO_014_TOOL14_BA.png   \n",
      "..            ...    ...       ...            ...                      ...   \n",
      "83   0-Back_Place    6.0     match          match   wm/PL_021_SCENE_07.png   \n",
      "84   0-Back_Place    7.0     match          match   wm/PL_021_SCENE_07.png   \n",
      "85   0-Back_Place    8.0  no_match       no_match   wm/PL_023_SCENE_09.png   \n",
      "86   0-Back_Place    9.0  no_match       no_match   wm/PL_024_SCENE_10.png   \n",
      "87   0-Back_Place   10.0  no_match       no_match   wm/PL_022_SCENE_08.png   \n",
      "\n",
      "   target_type stim_type    onset  duration  response_time  countdown_stim  \n",
      "0          NaN       NaN    0.000     1.996            NaN             4.0  \n",
      "1          NaN       NaN    2.000     1.996            NaN             3.0  \n",
      "2          NaN       NaN    3.999     1.997            NaN             2.0  \n",
      "3          NaN       NaN    5.999     1.997            NaN             1.0  \n",
      "4      nonlure     Tools   10.582     1.456          1.456             NaN  \n",
      "..         ...       ...      ...       ...            ...             ...  \n",
      "83      target     Place  263.435     1.117          1.117             NaN  \n",
      "84      target     Place  265.969     0.996          0.996             NaN  \n",
      "85     nonlure     Place  268.501     0.752          0.752             NaN  \n",
      "86     nonlure     Place  271.034     1.064          1.064             NaN  \n",
      "87        lure     Place  273.568     0.833          0.833             NaN  \n",
      "\n",
      "[88 rows x 11 columns]]\n"
     ]
    }
   ],
   "source": [
    "print(events_files)"
   ]
  },
  {
   "cell_type": "code",
   "execution_count": null,
   "id": "48a2346d",
   "metadata": {},
   "outputs": [
    {
     "name": "stdout",
     "output_type": "stream",
     "text": [
      "(202, 122)\n"
     ]
    }
   ],
   "source": [
    "data_lenght = len(bold_files)  # 数据文件数量\n",
    "data_lenght = int (data_lenght or 0)  # 确保为整数\n",
    "\n",
    "print(bold_files[0].shape)\n",
    "\n",
    "# 检查BOLD文件的时间点数量，确保一致性\n",
    "for i in range(0, data_lenght-1):\n",
    "    if bold_files[i].shape > bold_files[i+1].shape:         \n",
    "        # 如果当前文件比下一个文件有更多时间点，则截断多余部分\n",
    "        a = np.shape(bold_files[i])[0] - np.shape(bold_files[i+1])[0]        \n",
    "        bold_files[i] = bold_files[i][0:-a, 0:]  # 移除多余的时间点\n",
    "        print('BOLD文件', i, '有', a, '个多余的时间点')\n",
    "\n",
    "# 检查事件文件和BOLD文件数量是否匹配\n",
    "if len(events_files) != len(bold_files):\n",
    "    print('事件文件和fMRI文件数量不匹配')\n",
    "    print('Nifti文件数量:' ,len(bold_files))\n",
    "    print('事件文件数量:' ,len(events_files)) \n"
   ]
  },
  {
   "cell_type": "markdown",
   "id": "592be009",
   "metadata": {},
   "source": [
    "# 为所有事件生成标签文件"
   ]
  },
  {
   "cell_type": "code",
   "execution_count": 29,
   "id": "342e64b0",
   "metadata": {},
   "outputs": [
    {
     "name": "stdout",
     "output_type": "stream",
     "text": [
      "/Users/zhangyexin/hcptrt.fmriprep/sub-01/ses-001/func/sub-01_ses-001_task-wm_run-1_desc-confounds_timeseries.tsv\n",
      "/Users/zhangyexin/hcptrt.fmriprep/sub-01/ses-001/func/sub-01_ses-001_task-wm_run-1_desc-confounds_timeseries.tsv\n",
      "/Users/zhangyexin/hcptrt.fmriprep/sub-01/ses-001/func/sub-01_ses-001_task-wm_run-1_desc-confounds_timeseries.tsv\n",
      "/Users/zhangyexin/hcptrt.fmriprep/sub-01/ses-001/func/sub-01_ses-001_task-wm_run-1_desc-confounds_timeseries.tsv\n",
      "/Users/zhangyexin/hcptrt.fmriprep/sub-01/ses-001/func/sub-01_ses-001_task-wm_run-1_desc-confounds_timeseries.tsv\n",
      "/Users/zhangyexin/hcptrt.fmriprep/sub-01/ses-001/func/sub-01_ses-001_task-wm_run-1_desc-confounds_timeseries.tsv\n",
      "/Users/zhangyexin/hcptrt.fmriprep/sub-01/ses-001/func/sub-01_ses-001_task-wm_run-1_desc-confounds_timeseries.tsv\n",
      "/Users/zhangyexin/hcptrt.fmriprep/sub-01/ses-001/func/sub-01_ses-001_task-wm_run-1_desc-confounds_timeseries.tsv\n",
      "/Users/zhangyexin/hcptrt.fmriprep/sub-01/ses-001/func/sub-01_ses-001_task-wm_run-1_desc-confounds_timeseries.tsv\n",
      "/Users/zhangyexin/hcptrt.fmriprep/sub-01/ses-001/func/sub-01_ses-001_task-wm_run-1_desc-confounds_timeseries.tsv\n",
      "/Users/zhangyexin/hcptrt.fmriprep/sub-01/ses-001/func/sub-01_ses-001_task-wm_run-1_desc-confounds_timeseries.tsv\n",
      "/Users/zhangyexin/hcptrt.fmriprep/sub-01/ses-001/func/sub-01_ses-001_task-wm_run-1_desc-confounds_timeseries.tsv\n",
      "/Users/zhangyexin/hcptrt.fmriprep/sub-01/ses-001/func/sub-01_ses-001_task-wm_run-1_desc-confounds_timeseries.tsv\n",
      "/Users/zhangyexin/hcptrt.fmriprep/sub-01/ses-001/func/sub-01_ses-001_task-wm_run-1_desc-confounds_timeseries.tsv\n",
      "/Users/zhangyexin/hcptrt.fmriprep/sub-01/ses-001/func/sub-01_ses-001_task-wm_run-1_desc-confounds_timeseries.tsv\n"
     ]
    }
   ],
   "source": [
    "# 定义一个空列表，用于保存每个被试/每次实验的标签数组\n",
    "labels_files = []\n",
    "\n",
    "# 遍历所有的事件文件（每个事件文件对应一次实验任务）\n",
    "for events_file in events_files:\n",
    "    task_durations = []    # 保存每个任务类型的持续时间\n",
    "    task_modalities = []   # 保存每个任务类型的名称\n",
    "    row_counter = 0        # 初始化行计数器\n",
    "\n",
    "    # 首行任务类型加入列表\n",
    "    task_modalities.append(events_file.iloc[0]['trial_type'])\n",
    "    rows_no = len(events_file.axes[0])  # 获取事件文件的总行数（即事件数量）\n",
    "\n",
    "    # 遍历事件文件的每一行，提取不同任务类型及其持续时间\n",
    "    for i in range(1, rows_no):\n",
    "        if (events_file.iloc[i]['trial_type'] != events_file.iloc[i-1]['trial_type']):\n",
    "            task_modalities.append(events_file.iloc[i]['trial_type'])  # 新任务类型\n",
    "            duration = (events_file.iloc[i]['onset']) - (events_file.iloc[row_counter]['onset'])  # 持续时间计算\n",
    "            task_durations.append(duration)\n",
    "            row_counter = i  # 更新行计数器为当前行\n",
    "\n",
    "    # 添加最后一个任务类型的持续时间\n",
    "    task_durations.append(events_file.iloc[i]['duration'])\n",
    "\n",
    "    # 检查任务类型数量是否与持续时间数量一致\n",
    "    if (len(task_durations) != len(task_modalities)):\n",
    "        print('error: tasks and durations do not match')\n",
    "\n",
    "    # 转换为 NumPy 数组，方便后续计算\n",
    "    task_durations = np.array(task_durations)\n",
    "    task_modalities = np.array(task_modalities)\n",
    "\n",
    "    # 根据持续时间生成每个任务类型对应的体素数（volume 数）\n",
    "    volume_no = []\n",
    "    for t in task_durations:\n",
    "        volume_round = np.round((t)/TR).astype(int)  # 用 TR（时间分辨率）除以持续时间，得到 volume 数\n",
    "        volume_no.append(volume_round)\n",
    "\n",
    "    # 内部函数：计算体素总数（所有任务体素的和）\n",
    "    def _sum(arr): \n",
    "        sum = 0\n",
    "        for i in arr:\n",
    "            sum = sum + i\n",
    "        return(sum) \n",
    "\n",
    "    ans_round = _sum(volume_no)  # 总体素数\n",
    "\n",
    "    # 通过 masker 提取一个样本 fMRI 数据用于确定总体素数量\n",
    "    sample_fmri = masker.fit_transform(data_path[0], confounds = confound_load_9param(data_path[0]))\n",
    "    null_ending = sample_fmri.shape[0] - ans_round  # 计算结尾部分未标注的体素数\n",
    "\n",
    "    # 根据任务名称和体素数量生成最终标签数组\n",
    "    final_array = []\n",
    "    if (len(task_modalities) == len(task_durations) == len(volume_no)):\n",
    "        for l in range(len(task_modalities)):\n",
    "            f = ((task_modalities[l],) * volume_no[l])  # 每个任务重复对应的 volume 次\n",
    "            final_array.append(f)\n",
    "\n",
    "    # 添加结尾的 null 标签（未标注体素）\n",
    "    if null_ending > 0:\n",
    "        end_volume = (('null',) * null_ending)\n",
    "        final_array.append(end_volume)\n",
    "    \n",
    "    # 将多维数组扁平化为一维标签列表\n",
    "    flat_list = [item for sublist in final_array for item in sublist]\n",
    "    volume_labels = np.array(flat_list)  \n",
    "    labels_files.append(volume_labels)  # 加入最终列表\n",
    "\n",
    "# 把所有的标签文件展开为一个大的一维数组\n",
    "flat_labels_files = [item for sublist in labels_files for item in sublist]\n",
    "flat_volume_labels = np.array(flat_labels_files)\n",
    "\n",
    "# 获取每个 bold 文件的体素数量（shape[0] 表示时间点数量）\n",
    "shape = np.shape(bold_files[0])[0]\n",
    "flat_volume_labels = np.reshape(flat_volume_labels, (data_lenght * shape, 1))  # 重新整形为 (总体素数量, 1)\n",
    "\n",
    "# 将所有 bold 数据也展平（横向合并所有时间点）\n",
    "flat_bold = [item for sublist in bold_files for item in sublist]\n",
    "flat_bold_files = np.array(flat_bold)\n",
    "\n",
    "# 检查标签和 BOLD 数据是否一致（每个体素都应有一个标签）\n",
    "if (len(flat_bold_files[:, 0]) != len(flat_volume_labels[:, 0])):\n",
    "    print('error: labels and bold flat files mismatche')"
   ]
  },
  {
   "cell_type": "code",
   "execution_count": 30,
   "id": "7b926d18",
   "metadata": {},
   "outputs": [],
   "source": [
    "# 定义新的标签列表，最终将包括 HRF_lag 修改后的标签\n",
    "HRFlag_volume_labels = []\n",
    "\n",
    "b = 0  # 初始化索引\n",
    "l = len(flat_volume_labels[:, 0])  # 总体素标签的数量\n",
    "\n",
    "# 遍历标签数组，检测任务类型的变化以识别新任务开始\n",
    "while (b < (l - 1)):  \n",
    "    # 如果当前位置与下一个位置的标签不同，表示新任务的开始\n",
    "    if (flat_volume_labels[b, 0] != flat_volume_labels[b + 1, 0]):\n",
    "        HRFlag_volume_labels.append(flat_volume_labels[b, 0])  # 当前这个点保留原标签\n",
    "\n",
    "        # 判断新任务至少有 4 个连续体素（即持续时间足够长）\n",
    "        if (flat_volume_labels[b + 1, 0] == flat_volume_labels[b + 2, 0] == \n",
    "            flat_volume_labels[b + 3, 0] == flat_volume_labels[b + 4, 0]):\n",
    "            # 若满足，则将前 3 个体素标记为 HRF_lag\n",
    "            for j in range(1, 4):  # 添加3个 HRF_lag 标签\n",
    "                HRFlag_volume_labels.append('HRF_lag')\n",
    "            b = b + 4  # 跳过已标记部分（原本应为 b+4，但此处可能应为 b+3，详见后续优化）\n",
    "        else:\n",
    "            b = b + 1  # 若新任务不够长，正常推进1个位置\n",
    "            \n",
    "    else:\n",
    "        # 若当前标签与下一标签相同，表示仍在同一任务中，直接复制原标签\n",
    "        HRFlag_volume_labels.append(flat_volume_labels[b, 0])\n",
    "        b = b + 1\n",
    "\n",
    "# 添加最后一个体素的标签（避免遗漏）\n",
    "HRFlag_volume_labels.append(flat_volume_labels[l - 1, 0])\n"
   ]
  },
  {
   "cell_type": "code",
   "execution_count": 31,
   "id": "b4dd562e",
   "metadata": {},
   "outputs": [],
   "source": [
    "# 从第一个事件文件中提取出所有的试验类型（trial_type），并将其转换为一个列表。\n",
    "# 这里的 events_files[0] 应该代表第一个被试的事件数据。\n",
    "categories = list(events_files[0].trial_type)\n",
    "\n",
    "# 定义一个集合（set），包含所有我们不感兴趣、希望从数据集中剔除的标签。\n",
    "# 使用集合可以提高查找效率。\n",
    "unwanted = {'countdown', 'cross_fixation', 'Cue', 'new_bloc_right_hand',\n",
    "            'new_bloc_right_foot', 'new_bloc_left_foot', 'new_bloc_tongue',\n",
    "            'new_bloc_left_hand', 'new_bloc_control', 'new_bloc_relational',\n",
    "            'new_bloc_shape', 'new_bloc_face', 'countdown_nan', 'Cue_nan', 'HRF_lag', 'null'}\n",
    "\n",
    "# 使用列表推导式（list comprehension）从 categories 中筛选出所有不在 unwanted 集合中的标签。\n",
    "# 这实际上是在创建“有用”标签的白名单。\n",
    "categories = [c for c in categories if c not in unwanted]\n",
    "\n",
    "# 将筛选后的所有“有用”标签转换为一个集合，然后再次转为列表。\n",
    "# 这样做可以去除重复的标签，得到所有独特的任务条件（conditions）。\n",
    "conditions = list(set(categories))"
   ]
  },
  {
   "cell_type": "code",
   "execution_count": 32,
   "id": "215f939d",
   "metadata": {},
   "outputs": [],
   "source": [
    "# 初始化一个空列表，用于存储最终筛选出来的任务标签。\n",
    "final_volume_labels = []\n",
    "\n",
    "# 获取 fMRI 数据中每个时间点（volume）的特征数量，也就是脑区（parcel）的数量。\n",
    "# flat_bold_files[1] 应该代表一个被试的所有 fMRI 数据的二维矩阵，它的列数就是 parcel_no。\n",
    "parcel_no = np.shape(flat_bold_files[1])[0]\n",
    "\n",
    "# 初始化一个空的 NumPy 数组，用于存储最终筛选出来的 fMRI 数据。\n",
    "# 它的形状是 (0, parcel_no)，表示目前有0行数据，但已经确定了列数。\n",
    "final_bold_files = np.empty((0, parcel_no), int)\n",
    "\n",
    "# 开始一个循环，遍历所有经过 HRF 延迟处理后的标签（HRFlag_volume_labels）。\n",
    "# HRFlag_volume_labels 包含了所有时间点（TR）的标签，包括我们想要和不想要的。\n",
    "for i in range(0, len(HRFlag_volume_labels)):\n",
    "    # 检查当前循环到的标签是否不在 unwanted 集合中。\n",
    "    if (HRFlag_volume_labels[i] not in unwanted):\n",
    "        # 如果标签有用，就将其添加到 final_volume_labels 列表中。\n",
    "        final_volume_labels.append(HRFlag_volume_labels[i])\n",
    "        # 将当前时间点对应的 fMRI 数据（flat_bold_files[i, :]）追加到 final_bold_files 数组中。\n",
    "        # np.append 会创建一个新的数组，这是一个比较耗费性能的操作。\n",
    "        final_bold_files = np.append(final_bold_files,\n",
    "                                     np.array([flat_bold_files[i, :]]), axis=0)"
   ]
  },
  {
   "cell_type": "code",
   "execution_count": 33,
   "id": "a989ebd1",
   "metadata": {},
   "outputs": [],
   "source": [
    "# 计算最终任务条件的数量。\n",
    "num_cond = len(set(categories))\n",
    "# print(num_cond)\n",
    "# print(conditions)\n",
    "\n",
    "# 将最终的标签列表转换为 Pandas DataFrame。\n",
    "df_lable = pd.DataFrame(final_volume_labels)\n",
    "# 将标签 DataFrame 保存为 CSV 文件。\n",
    "# out_path 应该是输出文件所在的目录，modality 是任务类型，如 'wm'。\n",
    "# sep=',' 指定使用逗号分隔，index=False 不保存行索引，header=None 不保存列标题。\n",
    "df_lable.to_csv(out_path + modality + '_final_labels.csv', sep=',', index=False, header=None)\n",
    "# 构建最终 fMRI 数据的保存路径。\n",
    "df_fMRI = out_path +subject + '_' + modality + '_final_fMRI.npy'\n",
    "# 使用 NumPy 将 final_bold_files 数组保存为 .npy 格式文件。\n",
    "# 这是保存数值数据的一种高效二进制格式。\n",
    "np.save(df_fMRI, final_bold_files)"
   ]
  },
  {
   "cell_type": "code",
   "execution_count": 34,
   "id": "001d7838",
   "metadata": {},
   "outputs": [
    {
     "name": "stdout",
     "output_type": "stream",
     "text": [
      "parcel numbers: 122\n",
      "lenght of all volume labels: 3030\n",
      "shape of flat_bold_files: (3030, 122)\n",
      "<class 'numpy.ndarray'>\n",
      "lenght of final_volume_labels: 2037\n",
      "<class 'list'>\n",
      "lenght of final_bold_files: 2037\n",
      "shape of final_bold_files: (2037, 122)\n",
      "shape of final_volume_labels: (2037,)\n",
      "number of data files: 15\n"
     ]
    }
   ],
   "source": [
    "# 打印一些关键信息的代码，用于调试和验证。\n",
    "print('parcel numbers:', parcel_no)\n",
    "print('lenght of all volume labels:', len(HRFlag_volume_labels))\n",
    "print('shape of flat_bold_files:', np.shape(flat_bold_files))\n",
    "print(type(final_bold_files))\n",
    "print('lenght of final_volume_labels:', len(final_volume_labels))\n",
    "print(type(final_volume_labels))\n",
    "print('lenght of final_bold_files:', len(final_bold_files))\n",
    "print('shape of final_bold_files:', np.shape(final_bold_files))\n",
    "print('shape of final_volume_labels:', np.shape(final_volume_labels))\n",
    "print('number of data files:', data_lenght)"
   ]
  },
  {
   "cell_type": "code",
   "execution_count": 1,
   "id": "da27ca9b",
   "metadata": {},
   "outputs": [
    {
     "data": {
      "text/html": [
       "<pre style=\"white-space:pre;overflow-x:auto;line-height:normal;font-family:Menlo,'DejaVu Sans Mono',consolas,'Courier New',monospace\"><span style=\"color: #000080; text-decoration-color: #000080; font-weight: bold\">[</span><span style=\"color: #000080; text-decoration-color: #000080\">fetch_atlas_schaefer_2018</span><span style=\"color: #000080; text-decoration-color: #000080; font-weight: bold\">]</span> Added README.md to <span style=\"color: #800080; text-decoration-color: #800080\">/Users/zhangyexin/</span><span style=\"color: #ff00ff; text-decoration-color: #ff00ff\">nilearn_data</span>\n",
       "</pre>\n"
      ],
      "text/plain": [
       "\u001b[1;34m[\u001b[0m\u001b[34mfetch_atlas_schaefer_2018\u001b[0m\u001b[1;34m]\u001b[0m Added README.md to \u001b[35m/Users/zhangyexin/\u001b[0m\u001b[95mnilearn_data\u001b[0m\n"
      ]
     },
     "metadata": {},
     "output_type": "display_data"
    },
    {
     "data": {
      "text/html": [
       "<pre style=\"white-space:pre;overflow-x:auto;line-height:normal;font-family:Menlo,'DejaVu Sans Mono',consolas,'Courier New',monospace\"><span style=\"color: #000080; text-decoration-color: #000080; font-weight: bold\">[</span><span style=\"color: #000080; text-decoration-color: #000080\">fetch_atlas_schaefer_2018</span><span style=\"color: #000080; text-decoration-color: #000080; font-weight: bold\">]</span> Dataset created in <span style=\"color: #800080; text-decoration-color: #800080\">/Users/zhangyexin/nilearn_data/</span><span style=\"color: #ff00ff; text-decoration-color: #ff00ff\">schaefer_2018</span>\n",
       "</pre>\n"
      ],
      "text/plain": [
       "\u001b[1;34m[\u001b[0m\u001b[34mfetch_atlas_schaefer_2018\u001b[0m\u001b[1;34m]\u001b[0m Dataset created in \u001b[35m/Users/zhangyexin/nilearn_data/\u001b[0m\u001b[95mschaefer_2018\u001b[0m\n"
      ]
     },
     "metadata": {},
     "output_type": "display_data"
    },
    {
     "data": {
      "text/html": [
       "<pre style=\"white-space:pre;overflow-x:auto;line-height:normal;font-family:Menlo,'DejaVu Sans Mono',consolas,'Courier New',monospace\"><span style=\"color: #000080; text-decoration-color: #000080; font-weight: bold\">[</span><span style=\"color: #000080; text-decoration-color: #000080\">fetch_atlas_schaefer_2018</span><span style=\"color: #000080; text-decoration-color: #000080; font-weight: bold\">]</span> Downloading data from \n",
       "<span style=\"color: #0000ff; text-decoration-color: #0000ff; text-decoration: underline\">https://raw.githubusercontent.com/ThomasYeoLab/CBIG/v0.14.3-Update_Yeo2011_Schaefer2018_labelname/stable_projects/b</span>\n",
       "<span style=\"color: #0000ff; text-decoration-color: #0000ff; text-decoration: underline\">rain_parcellation/Schaefer2018_LocalGlobal/Parcellations/MNI/Schaefer2018_400Parcels_7Networks_order.txt</span> <span style=\"color: #808000; text-decoration-color: #808000\">...</span>\n",
       "</pre>\n"
      ],
      "text/plain": [
       "\u001b[1;34m[\u001b[0m\u001b[34mfetch_atlas_schaefer_2018\u001b[0m\u001b[1;34m]\u001b[0m Downloading data from \n",
       "\u001b[4;94mhttps://raw.githubusercontent.com/ThomasYeoLab/CBIG/v0.14.3-Update_Yeo2011_Schaefer2018_labelname/stable_projects/b\u001b[0m\n",
       "\u001b[4;94mrain_parcellation/Schaefer2018_LocalGlobal/Parcellations/MNI/Schaefer2018_400Parcels_7Networks_order.txt\u001b[0m \u001b[33m...\u001b[0m\n"
      ]
     },
     "metadata": {},
     "output_type": "display_data"
    },
    {
     "data": {
      "text/html": [
       "<pre style=\"white-space:pre;overflow-x:auto;line-height:normal;font-family:Menlo,'DejaVu Sans Mono',consolas,'Courier New',monospace\"><span style=\"color: #000080; text-decoration-color: #000080; font-weight: bold\">[</span><span style=\"color: #000080; text-decoration-color: #000080\">fetch_atlas_schaefer_2018</span><span style=\"color: #000080; text-decoration-color: #000080; font-weight: bold\">]</span>  <span style=\"color: #808000; text-decoration-color: #808000\">...</span>done. <span style=\"font-weight: bold\">(</span><span style=\"color: #008080; text-decoration-color: #008080; font-weight: bold\">0</span> seconds, <span style=\"color: #008080; text-decoration-color: #008080; font-weight: bold\">0</span> min<span style=\"font-weight: bold\">)</span>\n",
       "\n",
       "</pre>\n"
      ],
      "text/plain": [
       "\u001b[1;34m[\u001b[0m\u001b[34mfetch_atlas_schaefer_2018\u001b[0m\u001b[1;34m]\u001b[0m  \u001b[33m...\u001b[0mdone. \u001b[1m(\u001b[0m\u001b[1;36m0\u001b[0m seconds, \u001b[1;36m0\u001b[0m min\u001b[1m)\u001b[0m\n",
       "\n"
      ]
     },
     "metadata": {},
     "output_type": "display_data"
    },
    {
     "data": {
      "text/html": [
       "<pre style=\"white-space:pre;overflow-x:auto;line-height:normal;font-family:Menlo,'DejaVu Sans Mono',consolas,'Courier New',monospace\"><span style=\"color: #000080; text-decoration-color: #000080; font-weight: bold\">[</span><span style=\"color: #000080; text-decoration-color: #000080\">fetch_atlas_schaefer_2018</span><span style=\"color: #000080; text-decoration-color: #000080; font-weight: bold\">]</span> Downloading data from \n",
       "<span style=\"color: #0000ff; text-decoration-color: #0000ff; text-decoration: underline\">https://raw.githubusercontent.com/ThomasYeoLab/CBIG/v0.14.3-Update_Yeo2011_Schaefer2018_labelname/stable_projects/b</span>\n",
       "<span style=\"color: #0000ff; text-decoration-color: #0000ff; text-decoration: underline\">rain_parcellation/Schaefer2018_LocalGlobal/Parcellations/MNI/Schaefer2018_400Parcels_7Networks_order_FSLMNI152_2mm.</span>\n",
       "<span style=\"color: #0000ff; text-decoration-color: #0000ff; text-decoration: underline\">nii.gz</span> <span style=\"color: #808000; text-decoration-color: #808000\">...</span>\n",
       "</pre>\n"
      ],
      "text/plain": [
       "\u001b[1;34m[\u001b[0m\u001b[34mfetch_atlas_schaefer_2018\u001b[0m\u001b[1;34m]\u001b[0m Downloading data from \n",
       "\u001b[4;94mhttps://raw.githubusercontent.com/ThomasYeoLab/CBIG/v0.14.3-Update_Yeo2011_Schaefer2018_labelname/stable_projects/b\u001b[0m\n",
       "\u001b[4;94mrain_parcellation/Schaefer2018_LocalGlobal/Parcellations/MNI/Schaefer2018_400Parcels_7Networks_order_FSLMNI152_2mm.\u001b[0m\n",
       "\u001b[4;94mnii.gz\u001b[0m \u001b[33m...\u001b[0m\n"
      ]
     },
     "metadata": {},
     "output_type": "display_data"
    },
    {
     "data": {
      "text/html": [
       "<pre style=\"white-space:pre;overflow-x:auto;line-height:normal;font-family:Menlo,'DejaVu Sans Mono',consolas,'Courier New',monospace\"><span style=\"color: #000080; text-decoration-color: #000080; font-weight: bold\">[</span><span style=\"color: #000080; text-decoration-color: #000080\">fetch_atlas_schaefer_2018</span><span style=\"color: #000080; text-decoration-color: #000080; font-weight: bold\">]</span>  <span style=\"color: #808000; text-decoration-color: #808000\">...</span>done. <span style=\"font-weight: bold\">(</span><span style=\"color: #008080; text-decoration-color: #008080; font-weight: bold\">0</span> seconds, <span style=\"color: #008080; text-decoration-color: #008080; font-weight: bold\">0</span> min<span style=\"font-weight: bold\">)</span>\n",
       "\n",
       "</pre>\n"
      ],
      "text/plain": [
       "\u001b[1;34m[\u001b[0m\u001b[34mfetch_atlas_schaefer_2018\u001b[0m\u001b[1;34m]\u001b[0m  \u001b[33m...\u001b[0mdone. \u001b[1m(\u001b[0m\u001b[1;36m0\u001b[0m seconds, \u001b[1;36m0\u001b[0m min\u001b[1m)\u001b[0m\n",
       "\n"
      ]
     },
     "metadata": {},
     "output_type": "display_data"
    }
   ],
   "source": [
    "from nilearn.datasets import fetch_atlas_schaefer_2018\n",
    "atlas = fetch_atlas_schaefer_2018(n_rois=400, yeo_networks=7, resolution_mm=2)\n",
    "atlas_filename = atlas.maps"
   ]
  },
  {
   "cell_type": "code",
   "execution_count": 3,
   "id": "49fadb1c",
   "metadata": {},
   "outputs": [
    {
     "data": {
      "text/html": [
       "<pre style=\"white-space:pre;overflow-x:auto;line-height:normal;font-family:Menlo,'DejaVu Sans Mono',consolas,'Courier New',monospace\"><span style=\"color: #000080; text-decoration-color: #000080; font-weight: bold\">[</span><span style=\"color: #000080; text-decoration-color: #000080\">fetch_atlas_schaefer_2018</span><span style=\"color: #000080; text-decoration-color: #000080; font-weight: bold\">]</span> Dataset found in <span style=\"color: #800080; text-decoration-color: #800080\">/Users/zhangyexin/nilearn_data/</span><span style=\"color: #ff00ff; text-decoration-color: #ff00ff\">schaefer_2018</span>\n",
       "</pre>\n"
      ],
      "text/plain": [
       "\u001b[1;34m[\u001b[0m\u001b[34mfetch_atlas_schaefer_2018\u001b[0m\u001b[1;34m]\u001b[0m Dataset found in \u001b[35m/Users/zhangyexin/nilearn_data/\u001b[0m\u001b[95mschaefer_2018\u001b[0m\n"
      ]
     },
     "metadata": {},
     "output_type": "display_data"
    },
    {
     "data": {
      "text/html": [
       "<pre style=\"white-space:pre;overflow-x:auto;line-height:normal;font-family:Menlo,'DejaVu Sans Mono',consolas,'Courier New',monospace\"><span style=\"color: #000080; text-decoration-color: #000080; font-weight: bold\">[</span><span style=\"color: #000080; text-decoration-color: #000080\">fetch_atlas_schaefer_2018</span><span style=\"color: #000080; text-decoration-color: #000080; font-weight: bold\">]</span> Downloading data from \n",
       "<span style=\"color: #0000ff; text-decoration-color: #0000ff; text-decoration: underline\">https://raw.githubusercontent.com/ThomasYeoLab/CBIG/v0.14.3-Update_Yeo2011_Schaefer2018_labelname/stable_projects/b</span>\n",
       "<span style=\"color: #0000ff; text-decoration-color: #0000ff; text-decoration: underline\">rain_parcellation/Schaefer2018_LocalGlobal/Parcellations/MNI/Schaefer2018_100Parcels_7Networks_order.txt</span> <span style=\"color: #808000; text-decoration-color: #808000\">...</span>\n",
       "</pre>\n"
      ],
      "text/plain": [
       "\u001b[1;34m[\u001b[0m\u001b[34mfetch_atlas_schaefer_2018\u001b[0m\u001b[1;34m]\u001b[0m Downloading data from \n",
       "\u001b[4;94mhttps://raw.githubusercontent.com/ThomasYeoLab/CBIG/v0.14.3-Update_Yeo2011_Schaefer2018_labelname/stable_projects/b\u001b[0m\n",
       "\u001b[4;94mrain_parcellation/Schaefer2018_LocalGlobal/Parcellations/MNI/Schaefer2018_100Parcels_7Networks_order.txt\u001b[0m \u001b[33m...\u001b[0m\n"
      ]
     },
     "metadata": {},
     "output_type": "display_data"
    },
    {
     "data": {
      "text/html": [
       "<pre style=\"white-space:pre;overflow-x:auto;line-height:normal;font-family:Menlo,'DejaVu Sans Mono',consolas,'Courier New',monospace\"><span style=\"color: #000080; text-decoration-color: #000080; font-weight: bold\">[</span><span style=\"color: #000080; text-decoration-color: #000080\">fetch_atlas_schaefer_2018</span><span style=\"color: #000080; text-decoration-color: #000080; font-weight: bold\">]</span>  <span style=\"color: #808000; text-decoration-color: #808000\">...</span>done. <span style=\"font-weight: bold\">(</span><span style=\"color: #008080; text-decoration-color: #008080; font-weight: bold\">0</span> seconds, <span style=\"color: #008080; text-decoration-color: #008080; font-weight: bold\">0</span> min<span style=\"font-weight: bold\">)</span>\n",
       "\n",
       "</pre>\n"
      ],
      "text/plain": [
       "\u001b[1;34m[\u001b[0m\u001b[34mfetch_atlas_schaefer_2018\u001b[0m\u001b[1;34m]\u001b[0m  \u001b[33m...\u001b[0mdone. \u001b[1m(\u001b[0m\u001b[1;36m0\u001b[0m seconds, \u001b[1;36m0\u001b[0m min\u001b[1m)\u001b[0m\n",
       "\n"
      ]
     },
     "metadata": {},
     "output_type": "display_data"
    },
    {
     "data": {
      "text/html": [
       "<pre style=\"white-space:pre;overflow-x:auto;line-height:normal;font-family:Menlo,'DejaVu Sans Mono',consolas,'Courier New',monospace\"><span style=\"color: #000080; text-decoration-color: #000080; font-weight: bold\">[</span><span style=\"color: #000080; text-decoration-color: #000080\">fetch_atlas_schaefer_2018</span><span style=\"color: #000080; text-decoration-color: #000080; font-weight: bold\">]</span> Downloading data from \n",
       "<span style=\"color: #0000ff; text-decoration-color: #0000ff; text-decoration: underline\">https://raw.githubusercontent.com/ThomasYeoLab/CBIG/v0.14.3-Update_Yeo2011_Schaefer2018_labelname/stable_projects/b</span>\n",
       "<span style=\"color: #0000ff; text-decoration-color: #0000ff; text-decoration: underline\">rain_parcellation/Schaefer2018_LocalGlobal/Parcellations/MNI/Schaefer2018_100Parcels_7Networks_order_FSLMNI152_2mm.</span>\n",
       "<span style=\"color: #0000ff; text-decoration-color: #0000ff; text-decoration: underline\">nii.gz</span> <span style=\"color: #808000; text-decoration-color: #808000\">...</span>\n",
       "</pre>\n"
      ],
      "text/plain": [
       "\u001b[1;34m[\u001b[0m\u001b[34mfetch_atlas_schaefer_2018\u001b[0m\u001b[1;34m]\u001b[0m Downloading data from \n",
       "\u001b[4;94mhttps://raw.githubusercontent.com/ThomasYeoLab/CBIG/v0.14.3-Update_Yeo2011_Schaefer2018_labelname/stable_projects/b\u001b[0m\n",
       "\u001b[4;94mrain_parcellation/Schaefer2018_LocalGlobal/Parcellations/MNI/Schaefer2018_100Parcels_7Networks_order_FSLMNI152_2mm.\u001b[0m\n",
       "\u001b[4;94mnii.gz\u001b[0m \u001b[33m...\u001b[0m\n"
      ]
     },
     "metadata": {},
     "output_type": "display_data"
    },
    {
     "data": {
      "text/html": [
       "<pre style=\"white-space:pre;overflow-x:auto;line-height:normal;font-family:Menlo,'DejaVu Sans Mono',consolas,'Courier New',monospace\"><span style=\"color: #000080; text-decoration-color: #000080; font-weight: bold\">[</span><span style=\"color: #000080; text-decoration-color: #000080\">fetch_atlas_schaefer_2018</span><span style=\"color: #000080; text-decoration-color: #000080; font-weight: bold\">]</span>  <span style=\"color: #808000; text-decoration-color: #808000\">...</span>done. <span style=\"font-weight: bold\">(</span><span style=\"color: #008080; text-decoration-color: #008080; font-weight: bold\">0</span> seconds, <span style=\"color: #008080; text-decoration-color: #008080; font-weight: bold\">0</span> min<span style=\"font-weight: bold\">)</span>\n",
       "\n",
       "</pre>\n"
      ],
      "text/plain": [
       "\u001b[1;34m[\u001b[0m\u001b[34mfetch_atlas_schaefer_2018\u001b[0m\u001b[1;34m]\u001b[0m  \u001b[33m...\u001b[0mdone. \u001b[1m(\u001b[0m\u001b[1;36m0\u001b[0m seconds, \u001b[1;36m0\u001b[0m min\u001b[1m)\u001b[0m\n",
       "\n"
      ]
     },
     "metadata": {},
     "output_type": "display_data"
    }
   ],
   "source": [
    "atlas = fetch_atlas_schaefer_2018(n_rois=100,\n",
    "                                  yeo_networks=7,\n",
    "                                  resolution_mm=2)"
   ]
  },
  {
   "cell_type": "code",
   "execution_count": 5,
   "id": "51e02d65",
   "metadata": {},
   "outputs": [
    {
     "data": {
      "text/html": [
       "<pre style=\"white-space:pre;overflow-x:auto;line-height:normal;font-family:Menlo,'DejaVu Sans Mono',consolas,'Courier New',monospace\"><span style=\"color: #000080; text-decoration-color: #000080; font-weight: bold\">[</span><span style=\"color: #000080; text-decoration-color: #000080\">fetch_atlas_difumo</span><span style=\"color: #000080; text-decoration-color: #000080; font-weight: bold\">]</span> Dataset created in <span style=\"color: #800080; text-decoration-color: #800080\">/Users/zhangyexin/nilearn_data/</span><span style=\"color: #ff00ff; text-decoration-color: #ff00ff\">difumo_atlases</span>\n",
       "</pre>\n"
      ],
      "text/plain": [
       "\u001b[1;34m[\u001b[0m\u001b[34mfetch_atlas_difumo\u001b[0m\u001b[1;34m]\u001b[0m Dataset created in \u001b[35m/Users/zhangyexin/nilearn_data/\u001b[0m\u001b[95mdifumo_atlases\u001b[0m\n"
      ]
     },
     "metadata": {},
     "output_type": "display_data"
    },
    {
     "data": {
      "text/html": [
       "<pre style=\"white-space:pre;overflow-x:auto;line-height:normal;font-family:Menlo,'DejaVu Sans Mono',consolas,'Courier New',monospace\"><span style=\"color: #000080; text-decoration-color: #000080; font-weight: bold\">[</span><span style=\"color: #000080; text-decoration-color: #000080\">fetch_atlas_difumo</span><span style=\"color: #000080; text-decoration-color: #000080; font-weight: bold\">]</span> Downloading data from <span style=\"color: #0000ff; text-decoration-color: #0000ff; text-decoration: underline\">https://osf.io/wjvd5/download</span> <span style=\"color: #808000; text-decoration-color: #808000\">...</span>\n",
       "</pre>\n"
      ],
      "text/plain": [
       "\u001b[1;34m[\u001b[0m\u001b[34mfetch_atlas_difumo\u001b[0m\u001b[1;34m]\u001b[0m Downloading data from \u001b[4;94mhttps://osf.io/wjvd5/download\u001b[0m \u001b[33m...\u001b[0m\n"
      ]
     },
     "metadata": {},
     "output_type": "display_data"
    },
    {
     "data": {
      "text/html": [
       "<pre style=\"white-space:pre;overflow-x:auto;line-height:normal;font-family:Menlo,'DejaVu Sans Mono',consolas,'Courier New',monospace\"><span style=\"color: #000080; text-decoration-color: #000080; font-weight: bold\">[</span><span style=\"color: #000080; text-decoration-color: #000080\">fetch_atlas_difumo</span><span style=\"color: #000080; text-decoration-color: #000080; font-weight: bold\">]</span> Downloaded <span style=\"color: #008080; text-decoration-color: #008080; font-weight: bold\">704512</span> of <span style=\"color: #008080; text-decoration-color: #008080; font-weight: bold\">1642785</span> bytes <span style=\"font-weight: bold\">(</span><span style=\"color: #008080; text-decoration-color: #008080; font-weight: bold\">42.9</span>%%,    <span style=\"color: #008080; text-decoration-color: #008080; font-weight: bold\">1.</span>3s remaining<span style=\"font-weight: bold\">)</span>\n",
       "</pre>\n"
      ],
      "text/plain": [
       "\u001b[1;34m[\u001b[0m\u001b[34mfetch_atlas_difumo\u001b[0m\u001b[1;34m]\u001b[0m Downloaded \u001b[1;36m704512\u001b[0m of \u001b[1;36m1642785\u001b[0m bytes \u001b[1m(\u001b[0m\u001b[1;36m42.9\u001b[0m%%,    \u001b[1;36m1.\u001b[0m3s remaining\u001b[1m)\u001b[0m\n"
      ]
     },
     "metadata": {},
     "output_type": "display_data"
    },
    {
     "data": {
      "text/html": [
       "<pre style=\"white-space:pre;overflow-x:auto;line-height:normal;font-family:Menlo,'DejaVu Sans Mono',consolas,'Courier New',monospace\"><span style=\"color: #000080; text-decoration-color: #000080; font-weight: bold\">[</span><span style=\"color: #000080; text-decoration-color: #000080\">fetch_atlas_difumo</span><span style=\"color: #000080; text-decoration-color: #000080; font-weight: bold\">]</span>  <span style=\"color: #808000; text-decoration-color: #808000\">...</span>done. <span style=\"font-weight: bold\">(</span><span style=\"color: #008080; text-decoration-color: #008080; font-weight: bold\">3</span> seconds, <span style=\"color: #008080; text-decoration-color: #008080; font-weight: bold\">0</span> min<span style=\"font-weight: bold\">)</span>\n",
       "\n",
       "</pre>\n"
      ],
      "text/plain": [
       "\u001b[1;34m[\u001b[0m\u001b[34mfetch_atlas_difumo\u001b[0m\u001b[1;34m]\u001b[0m  \u001b[33m...\u001b[0mdone. \u001b[1m(\u001b[0m\u001b[1;36m3\u001b[0m seconds, \u001b[1;36m0\u001b[0m min\u001b[1m)\u001b[0m\n",
       "\n"
      ]
     },
     "metadata": {},
     "output_type": "display_data"
    },
    {
     "data": {
      "text/html": [
       "<pre style=\"white-space:pre;overflow-x:auto;line-height:normal;font-family:Menlo,'DejaVu Sans Mono',consolas,'Courier New',monospace\"><span style=\"color: #000080; text-decoration-color: #000080; font-weight: bold\">[</span><span style=\"color: #000080; text-decoration-color: #000080\">fetch_atlas_difumo</span><span style=\"color: #000080; text-decoration-color: #000080; font-weight: bold\">]</span> Extracting data from \n",
       "<span style=\"color: #800080; text-decoration-color: #800080\">/Users/zhangyexin/nilearn_data/difumo_atlases/26cd5bfd925550fac9f352a45b1ac2d3/</span><span style=\"color: #ff00ff; text-decoration-color: #ff00ff\">download...</span>\n",
       "</pre>\n"
      ],
      "text/plain": [
       "\u001b[1;34m[\u001b[0m\u001b[34mfetch_atlas_difumo\u001b[0m\u001b[1;34m]\u001b[0m Extracting data from \n",
       "\u001b[35m/Users/zhangyexin/nilearn_data/difumo_atlases/26cd5bfd925550fac9f352a45b1ac2d3/\u001b[0m\u001b[95mdownload...\u001b[0m\n"
      ]
     },
     "metadata": {},
     "output_type": "display_data"
    },
    {
     "data": {
      "text/html": [
       "<pre style=\"white-space:pre;overflow-x:auto;line-height:normal;font-family:Menlo,'DejaVu Sans Mono',consolas,'Courier New',monospace\"><span style=\"color: #000080; text-decoration-color: #000080; font-weight: bold\">[</span><span style=\"color: #000080; text-decoration-color: #000080\">fetch_atlas_difumo</span><span style=\"color: #000080; text-decoration-color: #000080; font-weight: bold\">]</span> .. done.\n",
       "\n",
       "</pre>\n"
      ],
      "text/plain": [
       "\u001b[1;34m[\u001b[0m\u001b[34mfetch_atlas_difumo\u001b[0m\u001b[1;34m]\u001b[0m .. done.\n",
       "\n"
      ]
     },
     "metadata": {},
     "output_type": "display_data"
    },
    {
     "data": {
      "text/html": [
       "<pre style=\"white-space:pre;overflow-x:auto;line-height:normal;font-family:Menlo,'DejaVu Sans Mono',consolas,'Courier New',monospace\"><span style=\"color: #000080; text-decoration-color: #000080; font-weight: bold\">[</span><span style=\"color: #000080; text-decoration-color: #000080\">fetch_atlas_difumo</span><span style=\"color: #000080; text-decoration-color: #000080; font-weight: bold\">]</span> Downloading data from <span style=\"color: #0000ff; text-decoration-color: #0000ff; text-decoration: underline\">https://osf.io/4k9bf/download</span> <span style=\"color: #808000; text-decoration-color: #808000\">...</span>\n",
       "</pre>\n"
      ],
      "text/plain": [
       "\u001b[1;34m[\u001b[0m\u001b[34mfetch_atlas_difumo\u001b[0m\u001b[1;34m]\u001b[0m Downloading data from \u001b[4;94mhttps://osf.io/4k9bf/download\u001b[0m \u001b[33m...\u001b[0m\n"
      ]
     },
     "metadata": {},
     "output_type": "display_data"
    },
    {
     "data": {
      "text/html": [
       "<pre style=\"white-space:pre;overflow-x:auto;line-height:normal;font-family:Menlo,'DejaVu Sans Mono',consolas,'Courier New',monospace\"><span style=\"color: #000080; text-decoration-color: #000080; font-weight: bold\">[</span><span style=\"color: #000080; text-decoration-color: #000080\">fetch_atlas_difumo</span><span style=\"color: #000080; text-decoration-color: #000080; font-weight: bold\">]</span>  <span style=\"color: #808000; text-decoration-color: #808000\">...</span>done. <span style=\"font-weight: bold\">(</span><span style=\"color: #008080; text-decoration-color: #008080; font-weight: bold\">1</span> seconds, <span style=\"color: #008080; text-decoration-color: #008080; font-weight: bold\">0</span> min<span style=\"font-weight: bold\">)</span>\n",
       "\n",
       "</pre>\n"
      ],
      "text/plain": [
       "\u001b[1;34m[\u001b[0m\u001b[34mfetch_atlas_difumo\u001b[0m\u001b[1;34m]\u001b[0m  \u001b[33m...\u001b[0mdone. \u001b[1m(\u001b[0m\u001b[1;36m1\u001b[0m seconds, \u001b[1;36m0\u001b[0m min\u001b[1m)\u001b[0m\n",
       "\n"
      ]
     },
     "metadata": {},
     "output_type": "display_data"
    },
    {
     "data": {
      "text/html": [
       "<pre style=\"white-space:pre;overflow-x:auto;line-height:normal;font-family:Menlo,'DejaVu Sans Mono',consolas,'Courier New',monospace\"><span style=\"color: #000080; text-decoration-color: #000080; font-weight: bold\">[</span><span style=\"color: #000080; text-decoration-color: #000080\">fetch_atlas_difumo</span><span style=\"color: #000080; text-decoration-color: #000080; font-weight: bold\">]</span> Dataset found in <span style=\"color: #800080; text-decoration-color: #800080\">/Users/zhangyexin/nilearn_data/</span><span style=\"color: #ff00ff; text-decoration-color: #ff00ff\">difumo_atlases</span>\n",
       "</pre>\n"
      ],
      "text/plain": [
       "\u001b[1;34m[\u001b[0m\u001b[34mfetch_atlas_difumo\u001b[0m\u001b[1;34m]\u001b[0m Dataset found in \u001b[35m/Users/zhangyexin/nilearn_data/\u001b[0m\u001b[95mdifumo_atlases\u001b[0m\n"
      ]
     },
     "metadata": {},
     "output_type": "display_data"
    },
    {
     "data": {
      "text/html": [
       "<pre style=\"white-space:pre;overflow-x:auto;line-height:normal;font-family:Menlo,'DejaVu Sans Mono',consolas,'Courier New',monospace\"><span style=\"color: #000080; text-decoration-color: #000080; font-weight: bold\">[</span><span style=\"color: #000080; text-decoration-color: #000080\">fetch_atlas_difumo</span><span style=\"color: #000080; text-decoration-color: #000080; font-weight: bold\">]</span> Downloading data from <span style=\"color: #0000ff; text-decoration-color: #0000ff; text-decoration: underline\">https://osf.io/3vrct/download</span> <span style=\"color: #808000; text-decoration-color: #808000\">...</span>\n",
       "</pre>\n"
      ],
      "text/plain": [
       "\u001b[1;34m[\u001b[0m\u001b[34mfetch_atlas_difumo\u001b[0m\u001b[1;34m]\u001b[0m Downloading data from \u001b[4;94mhttps://osf.io/3vrct/download\u001b[0m \u001b[33m...\u001b[0m\n"
      ]
     },
     "metadata": {},
     "output_type": "display_data"
    },
    {
     "data": {
      "text/html": [
       "<pre style=\"white-space:pre;overflow-x:auto;line-height:normal;font-family:Menlo,'DejaVu Sans Mono',consolas,'Courier New',monospace\"><span style=\"color: #000080; text-decoration-color: #000080; font-weight: bold\">[</span><span style=\"color: #000080; text-decoration-color: #000080\">fetch_atlas_difumo</span><span style=\"color: #000080; text-decoration-color: #000080; font-weight: bold\">]</span> Downloaded <span style=\"color: #008080; text-decoration-color: #008080; font-weight: bold\">753664</span> of <span style=\"color: #008080; text-decoration-color: #008080; font-weight: bold\">2580780</span> bytes <span style=\"font-weight: bold\">(</span><span style=\"color: #008080; text-decoration-color: #008080; font-weight: bold\">29.2</span>%%,    <span style=\"color: #008080; text-decoration-color: #008080; font-weight: bold\">2.</span>5s remaining<span style=\"font-weight: bold\">)</span>\n",
       "</pre>\n"
      ],
      "text/plain": [
       "\u001b[1;34m[\u001b[0m\u001b[34mfetch_atlas_difumo\u001b[0m\u001b[1;34m]\u001b[0m Downloaded \u001b[1;36m753664\u001b[0m of \u001b[1;36m2580780\u001b[0m bytes \u001b[1m(\u001b[0m\u001b[1;36m29.2\u001b[0m%%,    \u001b[1;36m2.\u001b[0m5s remaining\u001b[1m)\u001b[0m\n"
      ]
     },
     "metadata": {},
     "output_type": "display_data"
    },
    {
     "data": {
      "text/html": [
       "<pre style=\"white-space:pre;overflow-x:auto;line-height:normal;font-family:Menlo,'DejaVu Sans Mono',consolas,'Courier New',monospace\"><span style=\"color: #000080; text-decoration-color: #000080; font-weight: bold\">[</span><span style=\"color: #000080; text-decoration-color: #000080\">fetch_atlas_difumo</span><span style=\"color: #000080; text-decoration-color: #000080; font-weight: bold\">]</span>  <span style=\"color: #808000; text-decoration-color: #808000\">...</span>done. <span style=\"font-weight: bold\">(</span><span style=\"color: #008080; text-decoration-color: #008080; font-weight: bold\">4</span> seconds, <span style=\"color: #008080; text-decoration-color: #008080; font-weight: bold\">0</span> min<span style=\"font-weight: bold\">)</span>\n",
       "\n",
       "</pre>\n"
      ],
      "text/plain": [
       "\u001b[1;34m[\u001b[0m\u001b[34mfetch_atlas_difumo\u001b[0m\u001b[1;34m]\u001b[0m  \u001b[33m...\u001b[0mdone. \u001b[1m(\u001b[0m\u001b[1;36m4\u001b[0m seconds, \u001b[1;36m0\u001b[0m min\u001b[1m)\u001b[0m\n",
       "\n"
      ]
     },
     "metadata": {},
     "output_type": "display_data"
    },
    {
     "data": {
      "text/html": [
       "<pre style=\"white-space:pre;overflow-x:auto;line-height:normal;font-family:Menlo,'DejaVu Sans Mono',consolas,'Courier New',monospace\"><span style=\"color: #000080; text-decoration-color: #000080; font-weight: bold\">[</span><span style=\"color: #000080; text-decoration-color: #000080\">fetch_atlas_difumo</span><span style=\"color: #000080; text-decoration-color: #000080; font-weight: bold\">]</span> Extracting data from \n",
       "<span style=\"color: #800080; text-decoration-color: #800080\">/Users/zhangyexin/nilearn_data/difumo_atlases/12403a3f2f615ab8398a47a8495edc9d/</span><span style=\"color: #ff00ff; text-decoration-color: #ff00ff\">download...</span>\n",
       "</pre>\n"
      ],
      "text/plain": [
       "\u001b[1;34m[\u001b[0m\u001b[34mfetch_atlas_difumo\u001b[0m\u001b[1;34m]\u001b[0m Extracting data from \n",
       "\u001b[35m/Users/zhangyexin/nilearn_data/difumo_atlases/12403a3f2f615ab8398a47a8495edc9d/\u001b[0m\u001b[95mdownload...\u001b[0m\n"
      ]
     },
     "metadata": {},
     "output_type": "display_data"
    },
    {
     "data": {
      "text/html": [
       "<pre style=\"white-space:pre;overflow-x:auto;line-height:normal;font-family:Menlo,'DejaVu Sans Mono',consolas,'Courier New',monospace\"><span style=\"color: #000080; text-decoration-color: #000080; font-weight: bold\">[</span><span style=\"color: #000080; text-decoration-color: #000080\">fetch_atlas_difumo</span><span style=\"color: #000080; text-decoration-color: #000080; font-weight: bold\">]</span> .. done.\n",
       "\n",
       "</pre>\n"
      ],
      "text/plain": [
       "\u001b[1;34m[\u001b[0m\u001b[34mfetch_atlas_difumo\u001b[0m\u001b[1;34m]\u001b[0m .. done.\n",
       "\n"
      ]
     },
     "metadata": {},
     "output_type": "display_data"
    },
    {
     "data": {
      "text/html": [
       "<pre style=\"white-space:pre;overflow-x:auto;line-height:normal;font-family:Menlo,'DejaVu Sans Mono',consolas,'Courier New',monospace\"><span style=\"color: #000080; text-decoration-color: #000080; font-weight: bold\">[</span><span style=\"color: #000080; text-decoration-color: #000080\">fetch_atlas_difumo</span><span style=\"color: #000080; text-decoration-color: #000080; font-weight: bold\">]</span> Dataset found in <span style=\"color: #800080; text-decoration-color: #800080\">/Users/zhangyexin/nilearn_data/</span><span style=\"color: #ff00ff; text-decoration-color: #ff00ff\">difumo_atlases</span>\n",
       "</pre>\n"
      ],
      "text/plain": [
       "\u001b[1;34m[\u001b[0m\u001b[34mfetch_atlas_difumo\u001b[0m\u001b[1;34m]\u001b[0m Dataset found in \u001b[35m/Users/zhangyexin/nilearn_data/\u001b[0m\u001b[95mdifumo_atlases\u001b[0m\n"
      ]
     },
     "metadata": {},
     "output_type": "display_data"
    },
    {
     "data": {
      "text/html": [
       "<pre style=\"white-space:pre;overflow-x:auto;line-height:normal;font-family:Menlo,'DejaVu Sans Mono',consolas,'Courier New',monospace\"><span style=\"color: #000080; text-decoration-color: #000080; font-weight: bold\">[</span><span style=\"color: #000080; text-decoration-color: #000080\">fetch_atlas_difumo</span><span style=\"color: #000080; text-decoration-color: #000080; font-weight: bold\">]</span> Downloading data from <span style=\"color: #0000ff; text-decoration-color: #0000ff; text-decoration: underline\">https://osf.io/9b76y/download</span> <span style=\"color: #808000; text-decoration-color: #808000\">...</span>\n",
       "</pre>\n"
      ],
      "text/plain": [
       "\u001b[1;34m[\u001b[0m\u001b[34mfetch_atlas_difumo\u001b[0m\u001b[1;34m]\u001b[0m Downloading data from \u001b[4;94mhttps://osf.io/9b76y/download\u001b[0m \u001b[33m...\u001b[0m\n"
      ]
     },
     "metadata": {},
     "output_type": "display_data"
    },
    {
     "data": {
      "text/html": [
       "<pre style=\"white-space:pre;overflow-x:auto;line-height:normal;font-family:Menlo,'DejaVu Sans Mono',consolas,'Courier New',monospace\"><span style=\"color: #000080; text-decoration-color: #000080; font-weight: bold\">[</span><span style=\"color: #000080; text-decoration-color: #000080\">fetch_atlas_difumo</span><span style=\"color: #000080; text-decoration-color: #000080; font-weight: bold\">]</span> Downloaded <span style=\"color: #008080; text-decoration-color: #008080; font-weight: bold\">729088</span> of <span style=\"color: #008080; text-decoration-color: #008080; font-weight: bold\">3702732</span> bytes <span style=\"font-weight: bold\">(</span><span style=\"color: #008080; text-decoration-color: #008080; font-weight: bold\">19.7</span>%%,    <span style=\"color: #008080; text-decoration-color: #008080; font-weight: bold\">4.</span>5s remaining<span style=\"font-weight: bold\">)</span>\n",
       "</pre>\n"
      ],
      "text/plain": [
       "\u001b[1;34m[\u001b[0m\u001b[34mfetch_atlas_difumo\u001b[0m\u001b[1;34m]\u001b[0m Downloaded \u001b[1;36m729088\u001b[0m of \u001b[1;36m3702732\u001b[0m bytes \u001b[1m(\u001b[0m\u001b[1;36m19.7\u001b[0m%%,    \u001b[1;36m4.\u001b[0m5s remaining\u001b[1m)\u001b[0m\n"
      ]
     },
     "metadata": {},
     "output_type": "display_data"
    },
    {
     "data": {
      "text/html": [
       "<pre style=\"white-space:pre;overflow-x:auto;line-height:normal;font-family:Menlo,'DejaVu Sans Mono',consolas,'Courier New',monospace\"><span style=\"color: #000080; text-decoration-color: #000080; font-weight: bold\">[</span><span style=\"color: #000080; text-decoration-color: #000080\">fetch_atlas_difumo</span><span style=\"color: #000080; text-decoration-color: #000080; font-weight: bold\">]</span>  <span style=\"color: #808000; text-decoration-color: #808000\">...</span>done. <span style=\"font-weight: bold\">(</span><span style=\"color: #008080; text-decoration-color: #008080; font-weight: bold\">3</span> seconds, <span style=\"color: #008080; text-decoration-color: #008080; font-weight: bold\">0</span> min<span style=\"font-weight: bold\">)</span>\n",
       "\n",
       "</pre>\n"
      ],
      "text/plain": [
       "\u001b[1;34m[\u001b[0m\u001b[34mfetch_atlas_difumo\u001b[0m\u001b[1;34m]\u001b[0m  \u001b[33m...\u001b[0mdone. \u001b[1m(\u001b[0m\u001b[1;36m3\u001b[0m seconds, \u001b[1;36m0\u001b[0m min\u001b[1m)\u001b[0m\n",
       "\n"
      ]
     },
     "metadata": {},
     "output_type": "display_data"
    },
    {
     "data": {
      "text/html": [
       "<pre style=\"white-space:pre;overflow-x:auto;line-height:normal;font-family:Menlo,'DejaVu Sans Mono',consolas,'Courier New',monospace\"><span style=\"color: #000080; text-decoration-color: #000080; font-weight: bold\">[</span><span style=\"color: #000080; text-decoration-color: #000080\">fetch_atlas_difumo</span><span style=\"color: #000080; text-decoration-color: #000080; font-weight: bold\">]</span> Extracting data from \n",
       "<span style=\"color: #800080; text-decoration-color: #800080\">/Users/zhangyexin/nilearn_data/difumo_atlases/80f34c0afc160e555c330ce3dccf96b4/</span><span style=\"color: #ff00ff; text-decoration-color: #ff00ff\">download...</span>\n",
       "</pre>\n"
      ],
      "text/plain": [
       "\u001b[1;34m[\u001b[0m\u001b[34mfetch_atlas_difumo\u001b[0m\u001b[1;34m]\u001b[0m Extracting data from \n",
       "\u001b[35m/Users/zhangyexin/nilearn_data/difumo_atlases/80f34c0afc160e555c330ce3dccf96b4/\u001b[0m\u001b[95mdownload...\u001b[0m\n"
      ]
     },
     "metadata": {},
     "output_type": "display_data"
    },
    {
     "data": {
      "text/html": [
       "<pre style=\"white-space:pre;overflow-x:auto;line-height:normal;font-family:Menlo,'DejaVu Sans Mono',consolas,'Courier New',monospace\"><span style=\"color: #000080; text-decoration-color: #000080; font-weight: bold\">[</span><span style=\"color: #000080; text-decoration-color: #000080\">fetch_atlas_difumo</span><span style=\"color: #000080; text-decoration-color: #000080; font-weight: bold\">]</span> .. done.\n",
       "\n",
       "</pre>\n"
      ],
      "text/plain": [
       "\u001b[1;34m[\u001b[0m\u001b[34mfetch_atlas_difumo\u001b[0m\u001b[1;34m]\u001b[0m .. done.\n",
       "\n"
      ]
     },
     "metadata": {},
     "output_type": "display_data"
    },
    {
     "data": {
      "text/html": [
       "<pre style=\"white-space:pre;overflow-x:auto;line-height:normal;font-family:Menlo,'DejaVu Sans Mono',consolas,'Courier New',monospace\"><span style=\"color: #000080; text-decoration-color: #000080; font-weight: bold\">[</span><span style=\"color: #000080; text-decoration-color: #000080\">fetch_atlas_difumo</span><span style=\"color: #000080; text-decoration-color: #000080; font-weight: bold\">]</span> Dataset found in <span style=\"color: #800080; text-decoration-color: #800080\">/Users/zhangyexin/nilearn_data/</span><span style=\"color: #ff00ff; text-decoration-color: #ff00ff\">difumo_atlases</span>\n",
       "</pre>\n"
      ],
      "text/plain": [
       "\u001b[1;34m[\u001b[0m\u001b[34mfetch_atlas_difumo\u001b[0m\u001b[1;34m]\u001b[0m Dataset found in \u001b[35m/Users/zhangyexin/nilearn_data/\u001b[0m\u001b[95mdifumo_atlases\u001b[0m\n"
      ]
     },
     "metadata": {},
     "output_type": "display_data"
    },
    {
     "data": {
      "text/html": [
       "<pre style=\"white-space:pre;overflow-x:auto;line-height:normal;font-family:Menlo,'DejaVu Sans Mono',consolas,'Courier New',monospace\"><span style=\"color: #000080; text-decoration-color: #000080; font-weight: bold\">[</span><span style=\"color: #000080; text-decoration-color: #000080\">fetch_atlas_difumo</span><span style=\"color: #000080; text-decoration-color: #000080; font-weight: bold\">]</span> Downloading data from <span style=\"color: #0000ff; text-decoration-color: #0000ff; text-decoration: underline\">https://osf.io/34792/download</span> <span style=\"color: #808000; text-decoration-color: #808000\">...</span>\n",
       "</pre>\n"
      ],
      "text/plain": [
       "\u001b[1;34m[\u001b[0m\u001b[34mfetch_atlas_difumo\u001b[0m\u001b[1;34m]\u001b[0m Downloading data from \u001b[4;94mhttps://osf.io/34792/download\u001b[0m \u001b[33m...\u001b[0m\n"
      ]
     },
     "metadata": {},
     "output_type": "display_data"
    },
    {
     "data": {
      "text/html": [
       "<pre style=\"white-space:pre;overflow-x:auto;line-height:normal;font-family:Menlo,'DejaVu Sans Mono',consolas,'Courier New',monospace\"><span style=\"color: #000080; text-decoration-color: #000080; font-weight: bold\">[</span><span style=\"color: #000080; text-decoration-color: #000080\">fetch_atlas_difumo</span><span style=\"color: #000080; text-decoration-color: #000080; font-weight: bold\">]</span> Downloaded <span style=\"color: #008080; text-decoration-color: #008080; font-weight: bold\">737280</span> of <span style=\"color: #008080; text-decoration-color: #008080; font-weight: bold\">13322151</span> bytes <span style=\"font-weight: bold\">(</span><span style=\"color: #008080; text-decoration-color: #008080; font-weight: bold\">5.5</span>%%,   <span style=\"color: #008080; text-decoration-color: #008080; font-weight: bold\">17.</span>5s remaining<span style=\"font-weight: bold\">)</span>\n",
       "</pre>\n"
      ],
      "text/plain": [
       "\u001b[1;34m[\u001b[0m\u001b[34mfetch_atlas_difumo\u001b[0m\u001b[1;34m]\u001b[0m Downloaded \u001b[1;36m737280\u001b[0m of \u001b[1;36m13322151\u001b[0m bytes \u001b[1m(\u001b[0m\u001b[1;36m5.5\u001b[0m%%,   \u001b[1;36m17.\u001b[0m5s remaining\u001b[1m)\u001b[0m\n"
      ]
     },
     "metadata": {},
     "output_type": "display_data"
    },
    {
     "data": {
      "text/html": [
       "<pre style=\"white-space:pre;overflow-x:auto;line-height:normal;font-family:Menlo,'DejaVu Sans Mono',consolas,'Courier New',monospace\"><span style=\"color: #000080; text-decoration-color: #000080; font-weight: bold\">[</span><span style=\"color: #000080; text-decoration-color: #000080\">fetch_atlas_difumo</span><span style=\"color: #000080; text-decoration-color: #000080; font-weight: bold\">]</span> Downloaded <span style=\"color: #008080; text-decoration-color: #008080; font-weight: bold\">2883584</span> of <span style=\"color: #008080; text-decoration-color: #008080; font-weight: bold\">13322151</span> bytes <span style=\"font-weight: bold\">(</span><span style=\"color: #008080; text-decoration-color: #008080; font-weight: bold\">21.6</span>%%,    <span style=\"color: #008080; text-decoration-color: #008080; font-weight: bold\">7.</span>3s remaining<span style=\"font-weight: bold\">)</span>\n",
       "</pre>\n"
      ],
      "text/plain": [
       "\u001b[1;34m[\u001b[0m\u001b[34mfetch_atlas_difumo\u001b[0m\u001b[1;34m]\u001b[0m Downloaded \u001b[1;36m2883584\u001b[0m of \u001b[1;36m13322151\u001b[0m bytes \u001b[1m(\u001b[0m\u001b[1;36m21.6\u001b[0m%%,    \u001b[1;36m7.\u001b[0m3s remaining\u001b[1m)\u001b[0m\n"
      ]
     },
     "metadata": {},
     "output_type": "display_data"
    },
    {
     "data": {
      "text/html": [
       "<pre style=\"white-space:pre;overflow-x:auto;line-height:normal;font-family:Menlo,'DejaVu Sans Mono',consolas,'Courier New',monospace\"><span style=\"color: #000080; text-decoration-color: #000080; font-weight: bold\">[</span><span style=\"color: #000080; text-decoration-color: #000080\">fetch_atlas_difumo</span><span style=\"color: #000080; text-decoration-color: #000080; font-weight: bold\">]</span> Downloaded <span style=\"color: #008080; text-decoration-color: #008080; font-weight: bold\">5455872</span> of <span style=\"color: #008080; text-decoration-color: #008080; font-weight: bold\">13322151</span> bytes <span style=\"font-weight: bold\">(</span><span style=\"color: #008080; text-decoration-color: #008080; font-weight: bold\">41.0</span>%%,    <span style=\"color: #008080; text-decoration-color: #008080; font-weight: bold\">4.</span>4s remaining<span style=\"font-weight: bold\">)</span>\n",
       "</pre>\n"
      ],
      "text/plain": [
       "\u001b[1;34m[\u001b[0m\u001b[34mfetch_atlas_difumo\u001b[0m\u001b[1;34m]\u001b[0m Downloaded \u001b[1;36m5455872\u001b[0m of \u001b[1;36m13322151\u001b[0m bytes \u001b[1m(\u001b[0m\u001b[1;36m41.0\u001b[0m%%,    \u001b[1;36m4.\u001b[0m4s remaining\u001b[1m)\u001b[0m\n"
      ]
     },
     "metadata": {},
     "output_type": "display_data"
    },
    {
     "data": {
      "text/html": [
       "<pre style=\"white-space:pre;overflow-x:auto;line-height:normal;font-family:Menlo,'DejaVu Sans Mono',consolas,'Courier New',monospace\"><span style=\"color: #000080; text-decoration-color: #000080; font-weight: bold\">[</span><span style=\"color: #000080; text-decoration-color: #000080\">fetch_atlas_difumo</span><span style=\"color: #000080; text-decoration-color: #000080; font-weight: bold\">]</span> Downloaded <span style=\"color: #008080; text-decoration-color: #008080; font-weight: bold\">8183808</span> of <span style=\"color: #008080; text-decoration-color: #008080; font-weight: bold\">13322151</span> bytes <span style=\"font-weight: bold\">(</span><span style=\"color: #008080; text-decoration-color: #008080; font-weight: bold\">61.4</span>%%,    <span style=\"color: #008080; text-decoration-color: #008080; font-weight: bold\">2.</span>5s remaining<span style=\"font-weight: bold\">)</span>\n",
       "</pre>\n"
      ],
      "text/plain": [
       "\u001b[1;34m[\u001b[0m\u001b[34mfetch_atlas_difumo\u001b[0m\u001b[1;34m]\u001b[0m Downloaded \u001b[1;36m8183808\u001b[0m of \u001b[1;36m13322151\u001b[0m bytes \u001b[1m(\u001b[0m\u001b[1;36m61.4\u001b[0m%%,    \u001b[1;36m2.\u001b[0m5s remaining\u001b[1m)\u001b[0m\n"
      ]
     },
     "metadata": {},
     "output_type": "display_data"
    },
    {
     "data": {
      "text/html": [
       "<pre style=\"white-space:pre;overflow-x:auto;line-height:normal;font-family:Menlo,'DejaVu Sans Mono',consolas,'Courier New',monospace\"><span style=\"color: #000080; text-decoration-color: #000080; font-weight: bold\">[</span><span style=\"color: #000080; text-decoration-color: #000080\">fetch_atlas_difumo</span><span style=\"color: #000080; text-decoration-color: #000080; font-weight: bold\">]</span> Downloaded <span style=\"color: #008080; text-decoration-color: #008080; font-weight: bold\">11558912</span> of <span style=\"color: #008080; text-decoration-color: #008080; font-weight: bold\">13322151</span> bytes <span style=\"font-weight: bold\">(</span><span style=\"color: #008080; text-decoration-color: #008080; font-weight: bold\">86.8</span>%%,    <span style=\"color: #008080; text-decoration-color: #008080; font-weight: bold\">0.</span>8s remaining<span style=\"font-weight: bold\">)</span>\n",
       "</pre>\n"
      ],
      "text/plain": [
       "\u001b[1;34m[\u001b[0m\u001b[34mfetch_atlas_difumo\u001b[0m\u001b[1;34m]\u001b[0m Downloaded \u001b[1;36m11558912\u001b[0m of \u001b[1;36m13322151\u001b[0m bytes \u001b[1m(\u001b[0m\u001b[1;36m86.8\u001b[0m%%,    \u001b[1;36m0.\u001b[0m8s remaining\u001b[1m)\u001b[0m\n"
      ]
     },
     "metadata": {},
     "output_type": "display_data"
    },
    {
     "data": {
      "text/html": [
       "<pre style=\"white-space:pre;overflow-x:auto;line-height:normal;font-family:Menlo,'DejaVu Sans Mono',consolas,'Courier New',monospace\"><span style=\"color: #000080; text-decoration-color: #000080; font-weight: bold\">[</span><span style=\"color: #000080; text-decoration-color: #000080\">fetch_atlas_difumo</span><span style=\"color: #000080; text-decoration-color: #000080; font-weight: bold\">]</span>  <span style=\"color: #808000; text-decoration-color: #808000\">...</span>done. <span style=\"font-weight: bold\">(</span><span style=\"color: #008080; text-decoration-color: #008080; font-weight: bold\">8</span> seconds, <span style=\"color: #008080; text-decoration-color: #008080; font-weight: bold\">0</span> min<span style=\"font-weight: bold\">)</span>\n",
       "\n",
       "</pre>\n"
      ],
      "text/plain": [
       "\u001b[1;34m[\u001b[0m\u001b[34mfetch_atlas_difumo\u001b[0m\u001b[1;34m]\u001b[0m  \u001b[33m...\u001b[0mdone. \u001b[1m(\u001b[0m\u001b[1;36m8\u001b[0m seconds, \u001b[1;36m0\u001b[0m min\u001b[1m)\u001b[0m\n",
       "\n"
      ]
     },
     "metadata": {},
     "output_type": "display_data"
    },
    {
     "data": {
      "text/html": [
       "<pre style=\"white-space:pre;overflow-x:auto;line-height:normal;font-family:Menlo,'DejaVu Sans Mono',consolas,'Courier New',monospace\"><span style=\"color: #000080; text-decoration-color: #000080; font-weight: bold\">[</span><span style=\"color: #000080; text-decoration-color: #000080\">fetch_atlas_difumo</span><span style=\"color: #000080; text-decoration-color: #000080; font-weight: bold\">]</span> Extracting data from \n",
       "<span style=\"color: #800080; text-decoration-color: #800080\">/Users/zhangyexin/nilearn_data/difumo_atlases/c1abd37ea74135d8511ff6c3a7388e5c/</span><span style=\"color: #ff00ff; text-decoration-color: #ff00ff\">download...</span>\n",
       "</pre>\n"
      ],
      "text/plain": [
       "\u001b[1;34m[\u001b[0m\u001b[34mfetch_atlas_difumo\u001b[0m\u001b[1;34m]\u001b[0m Extracting data from \n",
       "\u001b[35m/Users/zhangyexin/nilearn_data/difumo_atlases/c1abd37ea74135d8511ff6c3a7388e5c/\u001b[0m\u001b[95mdownload...\u001b[0m\n"
      ]
     },
     "metadata": {},
     "output_type": "display_data"
    },
    {
     "data": {
      "text/html": [
       "<pre style=\"white-space:pre;overflow-x:auto;line-height:normal;font-family:Menlo,'DejaVu Sans Mono',consolas,'Courier New',monospace\"><span style=\"color: #000080; text-decoration-color: #000080; font-weight: bold\">[</span><span style=\"color: #000080; text-decoration-color: #000080\">fetch_atlas_difumo</span><span style=\"color: #000080; text-decoration-color: #000080; font-weight: bold\">]</span> .. done.\n",
       "\n",
       "</pre>\n"
      ],
      "text/plain": [
       "\u001b[1;34m[\u001b[0m\u001b[34mfetch_atlas_difumo\u001b[0m\u001b[1;34m]\u001b[0m .. done.\n",
       "\n"
      ]
     },
     "metadata": {},
     "output_type": "display_data"
    }
   ],
   "source": [
    "from nilearn.datasets import fetch_atlas_difumo\n",
    "atlas = fetch_atlas_difumo(dimension=128)\n",
    "atlas = fetch_atlas_difumo(dimension=256)\n",
    "atlas = fetch_atlas_difumo(dimension=512)\n",
    "atlas = fetch_atlas_difumo(dimension=1024)"
   ]
  },
  {
   "cell_type": "code",
   "execution_count": 8,
   "id": "0e88a28b",
   "metadata": {},
   "outputs": [
    {
     "name": "stdout",
     "output_type": "stream",
     "text": [
      "/Users/zhangyexin/hcptrt.fmriprep/sub-01/ses-006/func/sub-01_ses-006_task-gambling_run-2_desc-confounds_timeseries.tsv\n"
     ]
    }
   ],
   "source": [
    "confounds = confound_load_9param('/Users/zhangyexin/hcptrt.fmriprep/sub-01/ses-006/func/sub-01_ses-006_task-gambling_run-2_space-MNI152NLin2009cAsym_desc-preproc_bold.nii.gz')"
   ]
  }
 ],
 "metadata": {
  "kernelspec": {
   "display_name": "hcptrt_decoding",
   "language": "python",
   "name": "python3"
  },
  "language_info": {
   "codemirror_mode": {
    "name": "ipython",
    "version": 3
   },
   "file_extension": ".py",
   "mimetype": "text/x-python",
   "name": "python",
   "nbconvert_exporter": "python",
   "pygments_lexer": "ipython3",
   "version": "3.9.23"
  }
 },
 "nbformat": 4,
 "nbformat_minor": 5
}
